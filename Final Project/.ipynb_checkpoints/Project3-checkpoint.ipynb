{
 "cells": [
  {
   "cell_type": "code",
   "execution_count": 2,
   "metadata": {
    "collapsed": false
   },
   "outputs": [
    {
     "name": "stderr",
     "output_type": "stream",
     "text": [
      "/Users/cour7816/anaconda2/lib/python2.7/site-packages/matplotlib/font_manager.py:273: UserWarning: Matplotlib is building the font cache using fc-list. This may take a moment.\n",
      "  warnings.warn('Matplotlib is building the font cache using fc-list. This may take a moment.')\n"
     ]
    }
   ],
   "source": [
    "import pandas as pd\n",
    "import numpy as np\n",
    "import matplotlib.pyplot as plt\n",
    "import seaborn as sns\n",
    "%matplotlib inline"
   ]
  },
  {
   "cell_type": "code",
   "execution_count": 138,
   "metadata": {
    "collapsed": false
   },
   "outputs": [],
   "source": [
    "#This dataset has 63 features - only add the columns that we are interested in \n",
    "data = pd.read_csv('./assets/Crashes.csv', usecols=['XCOORD', 'YCOORD', 'INTERSECTIONTYPE', 'ISWORKZONERELATED', 'FIRSTHARMFULEVENTSPECIFICS', 'LIGHTCONDITION', 'WEATHER', 'ISDRINKING', 'CYCLISTSINVOLVED', 'PEDESTRIANSINVOLVED', 'MINORINJURIES', 'MAJORINJURIES', 'FATALITIES'])"
   ]
  },
  {
   "cell_type": "code",
   "execution_count": 140,
   "metadata": {
    "collapsed": false,
    "scrolled": true
   },
   "outputs": [
    {
     "data": {
      "text/html": [
       "<div>\n",
       "<table border=\"1\" class=\"dataframe\">\n",
       "  <thead>\n",
       "    <tr style=\"text-align: right;\">\n",
       "      <th></th>\n",
       "      <th>INTERSECTIONTYPE</th>\n",
       "      <th>ISWORKZONERELATED</th>\n",
       "      <th>FIRSTHARMFULEVENTSPECIFICS</th>\n",
       "      <th>LIGHTCONDITION</th>\n",
       "      <th>WEATHER</th>\n",
       "      <th>ISDRINKING</th>\n",
       "      <th>CYCLISTSINVOLVED</th>\n",
       "      <th>PEDESTRIANSINVOLVED</th>\n",
       "      <th>MINORINJURIES</th>\n",
       "      <th>MAJORINJURIES</th>\n",
       "      <th>FATALITIES</th>\n",
       "      <th>XCOORD</th>\n",
       "      <th>YCOORD</th>\n",
       "    </tr>\n",
       "  </thead>\n",
       "  <tbody>\n",
       "    <tr>\n",
       "      <th>0</th>\n",
       "      <td>null</td>\n",
       "      <td>0</td>\n",
       "      <td>Parked Motor Vehicle</td>\n",
       "      <td>Dark- Lighted</td>\n",
       "      <td>Clear</td>\n",
       "      <td>No data provided</td>\n",
       "      <td>NaN</td>\n",
       "      <td>NaN</td>\n",
       "      <td>NaN</td>\n",
       "      <td>NaN</td>\n",
       "      <td>NaN</td>\n",
       "      <td>-76.931799</td>\n",
       "      <td>38.888110</td>\n",
       "    </tr>\n",
       "    <tr>\n",
       "      <th>1</th>\n",
       "      <td>null</td>\n",
       "      <td>0</td>\n",
       "      <td>Other Non-fixed Object</td>\n",
       "      <td>null</td>\n",
       "      <td>null</td>\n",
       "      <td>No data provided</td>\n",
       "      <td>NaN</td>\n",
       "      <td>NaN</td>\n",
       "      <td>NaN</td>\n",
       "      <td>NaN</td>\n",
       "      <td>NaN</td>\n",
       "      <td>NaN</td>\n",
       "      <td>NaN</td>\n",
       "    </tr>\n",
       "    <tr>\n",
       "      <th>2</th>\n",
       "      <td>null</td>\n",
       "      <td>0</td>\n",
       "      <td>Injury</td>\n",
       "      <td>null</td>\n",
       "      <td>null</td>\n",
       "      <td>No data provided</td>\n",
       "      <td>NaN</td>\n",
       "      <td>NaN</td>\n",
       "      <td>NaN</td>\n",
       "      <td>1.0</td>\n",
       "      <td>NaN</td>\n",
       "      <td>-76.973458</td>\n",
       "      <td>38.933115</td>\n",
       "    </tr>\n",
       "    <tr>\n",
       "      <th>3</th>\n",
       "      <td>null</td>\n",
       "      <td>0</td>\n",
       "      <td>Hit and Run</td>\n",
       "      <td>null</td>\n",
       "      <td>null</td>\n",
       "      <td>No data provided</td>\n",
       "      <td>NaN</td>\n",
       "      <td>NaN</td>\n",
       "      <td>NaN</td>\n",
       "      <td>NaN</td>\n",
       "      <td>NaN</td>\n",
       "      <td>-76.989447</td>\n",
       "      <td>38.927668</td>\n",
       "    </tr>\n",
       "    <tr>\n",
       "      <th>4</th>\n",
       "      <td>null</td>\n",
       "      <td>0</td>\n",
       "      <td>Other Non-fixed Object</td>\n",
       "      <td>Dark- Lighted</td>\n",
       "      <td>Clear</td>\n",
       "      <td>No data provided</td>\n",
       "      <td>NaN</td>\n",
       "      <td>NaN</td>\n",
       "      <td>NaN</td>\n",
       "      <td>NaN</td>\n",
       "      <td>NaN</td>\n",
       "      <td>-77.044894</td>\n",
       "      <td>38.906458</td>\n",
       "    </tr>\n",
       "  </tbody>\n",
       "</table>\n",
       "</div>"
      ],
      "text/plain": [
       "  INTERSECTIONTYPE  ISWORKZONERELATED FIRSTHARMFULEVENTSPECIFICS  \\\n",
       "0             null                  0       Parked Motor Vehicle   \n",
       "1             null                  0     Other Non-fixed Object   \n",
       "2             null                  0                     Injury   \n",
       "3             null                  0                Hit and Run   \n",
       "4             null                  0     Other Non-fixed Object   \n",
       "\n",
       "  LIGHTCONDITION WEATHER        ISDRINKING  CYCLISTSINVOLVED  \\\n",
       "0  Dark- Lighted   Clear  No data provided               NaN   \n",
       "1           null    null  No data provided               NaN   \n",
       "2           null    null  No data provided               NaN   \n",
       "3           null    null  No data provided               NaN   \n",
       "4  Dark- Lighted   Clear  No data provided               NaN   \n",
       "\n",
       "   PEDESTRIANSINVOLVED  MINORINJURIES  MAJORINJURIES  FATALITIES     XCOORD  \\\n",
       "0                  NaN            NaN            NaN         NaN -76.931799   \n",
       "1                  NaN            NaN            NaN         NaN        NaN   \n",
       "2                  NaN            NaN            1.0         NaN -76.973458   \n",
       "3                  NaN            NaN            NaN         NaN -76.989447   \n",
       "4                  NaN            NaN            NaN         NaN -77.044894   \n",
       "\n",
       "      YCOORD  \n",
       "0  38.888110  \n",
       "1        NaN  \n",
       "2  38.933115  \n",
       "3  38.927668  \n",
       "4  38.906458  "
      ]
     },
     "execution_count": 140,
     "metadata": {},
     "output_type": "execute_result"
    }
   ],
   "source": [
    "data.head()"
   ]
  },
  {
   "cell_type": "code",
   "execution_count": 141,
   "metadata": {
    "collapsed": false
   },
   "outputs": [],
   "source": [
    "#fill NaN data with 0 \n",
    "data.CYCLISTSINVOLVED.fillna(0, inplace=True)\n",
    "data.PEDESTRIANSINVOLVED.fillna(0, inplace=True)\n",
    "data.MINORINJURIES.fillna(0, inplace=True)\n",
    "data.MAJORINJURIES.fillna(0, inplace=True)\n",
    "data.FATALITIES.fillna(0, inplace=True)"
   ]
  },
  {
   "cell_type": "code",
   "execution_count": 142,
   "metadata": {
    "collapsed": false
   },
   "outputs": [],
   "source": [
    "#convert floats to ints to simplify \n",
    "data.CYCLISTSINVOLVED = data.CYCLISTSINVOLVED.astype(int)\n",
    "data.PEDESTRIANSINVOLVED = data.PEDESTRIANSINVOLVED.astype(int)\n",
    "data.MINORINJURIES = data.MINORINJURIES.astype(int)\n",
    "data.MAJORINJURIES = data.MAJORINJURIES.astype(int)\n",
    "data.FATALITIES = data.FATALITIES.astype(int)"
   ]
  },
  {
   "cell_type": "code",
   "execution_count": 143,
   "metadata": {
    "collapsed": false,
    "scrolled": false
   },
   "outputs": [
    {
     "data": {
      "text/html": [
       "<div>\n",
       "<table border=\"1\" class=\"dataframe\">\n",
       "  <thead>\n",
       "    <tr style=\"text-align: right;\">\n",
       "      <th></th>\n",
       "      <th>INTERSECTIONTYPE</th>\n",
       "      <th>ISWORKZONERELATED</th>\n",
       "      <th>FIRSTHARMFULEVENTSPECIFICS</th>\n",
       "      <th>LIGHTCONDITION</th>\n",
       "      <th>WEATHER</th>\n",
       "      <th>ISDRINKING</th>\n",
       "      <th>CYCLISTSINVOLVED</th>\n",
       "      <th>PEDESTRIANSINVOLVED</th>\n",
       "      <th>MINORINJURIES</th>\n",
       "      <th>MAJORINJURIES</th>\n",
       "      <th>FATALITIES</th>\n",
       "      <th>XCOORD</th>\n",
       "      <th>YCOORD</th>\n",
       "    </tr>\n",
       "  </thead>\n",
       "  <tbody>\n",
       "    <tr>\n",
       "      <th>0</th>\n",
       "      <td>null</td>\n",
       "      <td>0</td>\n",
       "      <td>Parked Motor Vehicle</td>\n",
       "      <td>Dark- Lighted</td>\n",
       "      <td>Clear</td>\n",
       "      <td>No data provided</td>\n",
       "      <td>0</td>\n",
       "      <td>0</td>\n",
       "      <td>0</td>\n",
       "      <td>0</td>\n",
       "      <td>0</td>\n",
       "      <td>-76.931799</td>\n",
       "      <td>38.888110</td>\n",
       "    </tr>\n",
       "    <tr>\n",
       "      <th>1</th>\n",
       "      <td>null</td>\n",
       "      <td>0</td>\n",
       "      <td>Other Non-fixed Object</td>\n",
       "      <td>null</td>\n",
       "      <td>null</td>\n",
       "      <td>No data provided</td>\n",
       "      <td>0</td>\n",
       "      <td>0</td>\n",
       "      <td>0</td>\n",
       "      <td>0</td>\n",
       "      <td>0</td>\n",
       "      <td>NaN</td>\n",
       "      <td>NaN</td>\n",
       "    </tr>\n",
       "    <tr>\n",
       "      <th>2</th>\n",
       "      <td>null</td>\n",
       "      <td>0</td>\n",
       "      <td>Injury</td>\n",
       "      <td>null</td>\n",
       "      <td>null</td>\n",
       "      <td>No data provided</td>\n",
       "      <td>0</td>\n",
       "      <td>0</td>\n",
       "      <td>0</td>\n",
       "      <td>1</td>\n",
       "      <td>0</td>\n",
       "      <td>-76.973458</td>\n",
       "      <td>38.933115</td>\n",
       "    </tr>\n",
       "    <tr>\n",
       "      <th>3</th>\n",
       "      <td>null</td>\n",
       "      <td>0</td>\n",
       "      <td>Hit and Run</td>\n",
       "      <td>null</td>\n",
       "      <td>null</td>\n",
       "      <td>No data provided</td>\n",
       "      <td>0</td>\n",
       "      <td>0</td>\n",
       "      <td>0</td>\n",
       "      <td>0</td>\n",
       "      <td>0</td>\n",
       "      <td>-76.989447</td>\n",
       "      <td>38.927668</td>\n",
       "    </tr>\n",
       "    <tr>\n",
       "      <th>4</th>\n",
       "      <td>null</td>\n",
       "      <td>0</td>\n",
       "      <td>Other Non-fixed Object</td>\n",
       "      <td>Dark- Lighted</td>\n",
       "      <td>Clear</td>\n",
       "      <td>No data provided</td>\n",
       "      <td>0</td>\n",
       "      <td>0</td>\n",
       "      <td>0</td>\n",
       "      <td>0</td>\n",
       "      <td>0</td>\n",
       "      <td>-77.044894</td>\n",
       "      <td>38.906458</td>\n",
       "    </tr>\n",
       "  </tbody>\n",
       "</table>\n",
       "</div>"
      ],
      "text/plain": [
       "  INTERSECTIONTYPE  ISWORKZONERELATED FIRSTHARMFULEVENTSPECIFICS  \\\n",
       "0             null                  0       Parked Motor Vehicle   \n",
       "1             null                  0     Other Non-fixed Object   \n",
       "2             null                  0                     Injury   \n",
       "3             null                  0                Hit and Run   \n",
       "4             null                  0     Other Non-fixed Object   \n",
       "\n",
       "  LIGHTCONDITION WEATHER        ISDRINKING  CYCLISTSINVOLVED  \\\n",
       "0  Dark- Lighted   Clear  No data provided                 0   \n",
       "1           null    null  No data provided                 0   \n",
       "2           null    null  No data provided                 0   \n",
       "3           null    null  No data provided                 0   \n",
       "4  Dark- Lighted   Clear  No data provided                 0   \n",
       "\n",
       "   PEDESTRIANSINVOLVED  MINORINJURIES  MAJORINJURIES  FATALITIES     XCOORD  \\\n",
       "0                    0              0              0           0 -76.931799   \n",
       "1                    0              0              0           0        NaN   \n",
       "2                    0              0              1           0 -76.973458   \n",
       "3                    0              0              0           0 -76.989447   \n",
       "4                    0              0              0           0 -77.044894   \n",
       "\n",
       "      YCOORD  \n",
       "0  38.888110  \n",
       "1        NaN  \n",
       "2  38.933115  \n",
       "3  38.927668  \n",
       "4  38.906458  "
      ]
     },
     "execution_count": 143,
     "metadata": {},
     "output_type": "execute_result"
    }
   ],
   "source": [
    "data.head()"
   ]
  },
  {
   "cell_type": "code",
   "execution_count": 144,
   "metadata": {
    "collapsed": false
   },
   "outputs": [
    {
     "data": {
      "text/html": [
       "<div>\n",
       "<table border=\"1\" class=\"dataframe\">\n",
       "  <thead>\n",
       "    <tr style=\"text-align: right;\">\n",
       "      <th></th>\n",
       "      <th>event_Animal</th>\n",
       "      <th>event_Bridge Overhead Structure</th>\n",
       "      <th>event_Bridge Pier Or Support</th>\n",
       "      <th>event_Bridge Rail</th>\n",
       "      <th>event_Cable Barrier</th>\n",
       "      <th>event_Cargo/Equipment Loss Or Shift</th>\n",
       "      <th>event_Commercial Vehicle</th>\n",
       "      <th>event_Concrete Traffic Barrier</th>\n",
       "      <th>event_Culvert</th>\n",
       "      <th>event_Curb</th>\n",
       "      <th>...</th>\n",
       "      <th>event_Pedestrian</th>\n",
       "      <th>event_Railway Vehicle (train, engine)</th>\n",
       "      <th>event_Struck By Falling, Shifting Cargo Or Anything Set In Motion By Motor Vehicle</th>\n",
       "      <th>event_Traffic Sign Support</th>\n",
       "      <th>event_Traffic Signal Support</th>\n",
       "      <th>event_Tree(standing)</th>\n",
       "      <th>event_Unknown</th>\n",
       "      <th>event_Utility Pole/light Support</th>\n",
       "      <th>event_Work Zone/maintenance Equipment</th>\n",
       "      <th>event_null</th>\n",
       "    </tr>\n",
       "  </thead>\n",
       "  <tbody>\n",
       "    <tr>\n",
       "      <th>0</th>\n",
       "      <td>0.0</td>\n",
       "      <td>0.0</td>\n",
       "      <td>0.0</td>\n",
       "      <td>0.0</td>\n",
       "      <td>0.0</td>\n",
       "      <td>0.0</td>\n",
       "      <td>0.0</td>\n",
       "      <td>0.0</td>\n",
       "      <td>0.0</td>\n",
       "      <td>0.0</td>\n",
       "      <td>...</td>\n",
       "      <td>0.0</td>\n",
       "      <td>0.0</td>\n",
       "      <td>0.0</td>\n",
       "      <td>0.0</td>\n",
       "      <td>0.0</td>\n",
       "      <td>0.0</td>\n",
       "      <td>0.0</td>\n",
       "      <td>0.0</td>\n",
       "      <td>0.0</td>\n",
       "      <td>0.0</td>\n",
       "    </tr>\n",
       "  </tbody>\n",
       "</table>\n",
       "<p>1 rows × 44 columns</p>\n",
       "</div>"
      ],
      "text/plain": [
       "   event_Animal  event_Bridge Overhead Structure  \\\n",
       "0           0.0                              0.0   \n",
       "\n",
       "   event_Bridge Pier Or Support  event_Bridge Rail  event_Cable Barrier  \\\n",
       "0                           0.0                0.0                  0.0   \n",
       "\n",
       "   event_Cargo/Equipment Loss Or Shift  event_Commercial Vehicle  \\\n",
       "0                                  0.0                       0.0   \n",
       "\n",
       "   event_Concrete Traffic Barrier  event_Culvert  event_Curb     ...      \\\n",
       "0                             0.0            0.0         0.0     ...       \n",
       "\n",
       "   event_Pedestrian  event_Railway Vehicle (train, engine)  \\\n",
       "0               0.0                                    0.0   \n",
       "\n",
       "   event_Struck By Falling, Shifting Cargo Or Anything Set In Motion By Motor Vehicle  \\\n",
       "0                                                0.0                                    \n",
       "\n",
       "   event_Traffic Sign Support  event_Traffic Signal Support  \\\n",
       "0                         0.0                           0.0   \n",
       "\n",
       "   event_Tree(standing)  event_Unknown  event_Utility Pole/light Support  \\\n",
       "0                   0.0            0.0                               0.0   \n",
       "\n",
       "   event_Work Zone/maintenance Equipment  event_null  \n",
       "0                                    0.0         0.0  \n",
       "\n",
       "[1 rows x 44 columns]"
      ]
     },
     "execution_count": 144,
     "metadata": {},
     "output_type": "execute_result"
    }
   ],
   "source": [
    "#create dummy variables for FIRSTHARMFULEVENTSPECIFICS\n",
    "event_dummies = pd.get_dummies(data.FIRSTHARMFULEVENTSPECIFICS, prefix='event')\n",
    "event_dummies.head(1)"
   ]
  },
  {
   "cell_type": "code",
   "execution_count": 145,
   "metadata": {
    "collapsed": true
   },
   "outputs": [],
   "source": [
    "#join the event dummy variables with the rest of the data, drop the first dummy \n",
    "data = data.join(event_dummies.ix[:, 'event_Bridge Overhead Structure':])"
   ]
  },
  {
   "cell_type": "code",
   "execution_count": 146,
   "metadata": {
    "collapsed": false
   },
   "outputs": [
    {
     "data": {
      "text/html": [
       "<div>\n",
       "<table border=\"1\" class=\"dataframe\">\n",
       "  <thead>\n",
       "    <tr style=\"text-align: right;\">\n",
       "      <th></th>\n",
       "      <th>light_Dark Unknown Lighted</th>\n",
       "      <th>light_Dark- Lighted</th>\n",
       "      <th>light_Dark- Not Lighted</th>\n",
       "      <th>light_Dawn</th>\n",
       "      <th>light_Daylight</th>\n",
       "      <th>light_Dusk</th>\n",
       "      <th>light_Other</th>\n",
       "      <th>light_Unknown</th>\n",
       "      <th>light_null</th>\n",
       "    </tr>\n",
       "  </thead>\n",
       "  <tbody>\n",
       "    <tr>\n",
       "      <th>0</th>\n",
       "      <td>0.0</td>\n",
       "      <td>1.0</td>\n",
       "      <td>0.0</td>\n",
       "      <td>0.0</td>\n",
       "      <td>0.0</td>\n",
       "      <td>0.0</td>\n",
       "      <td>0.0</td>\n",
       "      <td>0.0</td>\n",
       "      <td>0.0</td>\n",
       "    </tr>\n",
       "  </tbody>\n",
       "</table>\n",
       "</div>"
      ],
      "text/plain": [
       "   light_Dark Unknown Lighted  light_Dark- Lighted  light_Dark- Not Lighted  \\\n",
       "0                         0.0                  1.0                      0.0   \n",
       "\n",
       "   light_Dawn  light_Daylight  light_Dusk  light_Other  light_Unknown  \\\n",
       "0         0.0             0.0         0.0          0.0            0.0   \n",
       "\n",
       "   light_null  \n",
       "0         0.0  "
      ]
     },
     "execution_count": 146,
     "metadata": {},
     "output_type": "execute_result"
    }
   ],
   "source": [
    "light_dummies = pd.get_dummies(data.LIGHTCONDITION, prefix='light')\n",
    "light_dummies.head(1)"
   ]
  },
  {
   "cell_type": "code",
   "execution_count": 147,
   "metadata": {
    "collapsed": true
   },
   "outputs": [],
   "source": [
    "data = data.join(light_dummies.ix[:, 'light_Dark-Lighted':])"
   ]
  },
  {
   "cell_type": "code",
   "execution_count": 148,
   "metadata": {
    "collapsed": false
   },
   "outputs": [
    {
     "data": {
      "text/html": [
       "<div>\n",
       "<table border=\"1\" class=\"dataframe\">\n",
       "  <thead>\n",
       "    <tr style=\"text-align: right;\">\n",
       "      <th></th>\n",
       "      <th>drink_No</th>\n",
       "      <th>drink_No data provided</th>\n",
       "      <th>drink_Yes</th>\n",
       "    </tr>\n",
       "  </thead>\n",
       "  <tbody>\n",
       "    <tr>\n",
       "      <th>0</th>\n",
       "      <td>0.0</td>\n",
       "      <td>1.0</td>\n",
       "      <td>0.0</td>\n",
       "    </tr>\n",
       "  </tbody>\n",
       "</table>\n",
       "</div>"
      ],
      "text/plain": [
       "   drink_No  drink_No data provided  drink_Yes\n",
       "0       0.0                     1.0        0.0"
      ]
     },
     "execution_count": 148,
     "metadata": {},
     "output_type": "execute_result"
    }
   ],
   "source": [
    "drinking_dummies = pd.get_dummies(data.ISDRINKING, prefix='drink')\n",
    "drinking_dummies.head(1)"
   ]
  },
  {
   "cell_type": "code",
   "execution_count": 149,
   "metadata": {
    "collapsed": true
   },
   "outputs": [],
   "source": [
    "data = data.join(drinking_dummies.ix[:, 'drink_No data provided':])"
   ]
  },
  {
   "cell_type": "code",
   "execution_count": 150,
   "metadata": {
    "collapsed": false
   },
   "outputs": [
    {
     "data": {
      "text/html": [
       "<div>\n",
       "<table border=\"1\" class=\"dataframe\">\n",
       "  <thead>\n",
       "    <tr style=\"text-align: right;\">\n",
       "      <th></th>\n",
       "      <th>int_Five-Point, or More</th>\n",
       "      <th>int_Four-Way Intersection</th>\n",
       "      <th>int_L-Intersection</th>\n",
       "      <th>int_Not an Intersection</th>\n",
       "      <th>int_Roundabout</th>\n",
       "      <th>int_T-Intersection</th>\n",
       "      <th>int_Traffic Circle</th>\n",
       "      <th>int_Y-Intersection</th>\n",
       "      <th>int_null</th>\n",
       "    </tr>\n",
       "  </thead>\n",
       "  <tbody>\n",
       "    <tr>\n",
       "      <th>0</th>\n",
       "      <td>0.0</td>\n",
       "      <td>0.0</td>\n",
       "      <td>0.0</td>\n",
       "      <td>0.0</td>\n",
       "      <td>0.0</td>\n",
       "      <td>0.0</td>\n",
       "      <td>0.0</td>\n",
       "      <td>0.0</td>\n",
       "      <td>1.0</td>\n",
       "    </tr>\n",
       "  </tbody>\n",
       "</table>\n",
       "</div>"
      ],
      "text/plain": [
       "   int_Five-Point, or More  int_Four-Way Intersection  int_L-Intersection  \\\n",
       "0                      0.0                        0.0                 0.0   \n",
       "\n",
       "   int_Not an Intersection  int_Roundabout  int_T-Intersection  \\\n",
       "0                      0.0             0.0                 0.0   \n",
       "\n",
       "   int_Traffic Circle  int_Y-Intersection  int_null  \n",
       "0                 0.0                 0.0       1.0  "
      ]
     },
     "execution_count": 150,
     "metadata": {},
     "output_type": "execute_result"
    }
   ],
   "source": [
    "intersection_dummies = pd.get_dummies(data.INTERSECTIONTYPE, prefix='int')\n",
    "intersection_dummies.head(1)"
   ]
  },
  {
   "cell_type": "code",
   "execution_count": 151,
   "metadata": {
    "collapsed": false
   },
   "outputs": [],
   "source": [
    "data = data.join(intersection_dummies.ix[:, 'int_Four-Way Intersection':])\n"
   ]
  },
  {
   "cell_type": "code",
   "execution_count": 152,
   "metadata": {
    "collapsed": false,
    "scrolled": true
   },
   "outputs": [
    {
     "data": {
      "text/html": [
       "<div>\n",
       "<table border=\"1\" class=\"dataframe\">\n",
       "  <thead>\n",
       "    <tr style=\"text-align: right;\">\n",
       "      <th></th>\n",
       "      <th>weather_Blowing Sand, Soil, Dirt</th>\n",
       "      <th>weather_Blowing Snow</th>\n",
       "      <th>weather_Clear</th>\n",
       "      <th>weather_Cloudy</th>\n",
       "      <th>weather_Fog, Smog, Smoke</th>\n",
       "      <th>weather_Freezing Rain Or Freezing Drizzle</th>\n",
       "      <th>weather_Mist</th>\n",
       "      <th>weather_Other</th>\n",
       "      <th>weather_Rain</th>\n",
       "      <th>weather_Severe Crosswinds</th>\n",
       "      <th>weather_Sleet Or Hail</th>\n",
       "      <th>weather_Snow</th>\n",
       "      <th>weather_Unknown</th>\n",
       "      <th>weather_null</th>\n",
       "    </tr>\n",
       "  </thead>\n",
       "  <tbody>\n",
       "    <tr>\n",
       "      <th>0</th>\n",
       "      <td>0.0</td>\n",
       "      <td>0.0</td>\n",
       "      <td>1.0</td>\n",
       "      <td>0.0</td>\n",
       "      <td>0.0</td>\n",
       "      <td>0.0</td>\n",
       "      <td>0.0</td>\n",
       "      <td>0.0</td>\n",
       "      <td>0.0</td>\n",
       "      <td>0.0</td>\n",
       "      <td>0.0</td>\n",
       "      <td>0.0</td>\n",
       "      <td>0.0</td>\n",
       "      <td>0.0</td>\n",
       "    </tr>\n",
       "  </tbody>\n",
       "</table>\n",
       "</div>"
      ],
      "text/plain": [
       "   weather_Blowing Sand, Soil, Dirt  weather_Blowing Snow  weather_Clear  \\\n",
       "0                               0.0                   0.0            1.0   \n",
       "\n",
       "   weather_Cloudy  weather_Fog, Smog, Smoke  \\\n",
       "0             0.0                       0.0   \n",
       "\n",
       "   weather_Freezing Rain Or Freezing Drizzle  weather_Mist  weather_Other  \\\n",
       "0                                        0.0           0.0            0.0   \n",
       "\n",
       "   weather_Rain  weather_Severe Crosswinds  weather_Sleet Or Hail  \\\n",
       "0           0.0                        0.0                    0.0   \n",
       "\n",
       "   weather_Snow  weather_Unknown  weather_null  \n",
       "0           0.0              0.0           0.0  "
      ]
     },
     "execution_count": 152,
     "metadata": {},
     "output_type": "execute_result"
    }
   ],
   "source": [
    "weather_dummies = pd.get_dummies(data.WEATHER, prefix='weather')\n",
    "weather_dummies.head(1)"
   ]
  },
  {
   "cell_type": "code",
   "execution_count": 153,
   "metadata": {
    "collapsed": false
   },
   "outputs": [
    {
     "data": {
      "text/html": [
       "<div>\n",
       "<table border=\"1\" class=\"dataframe\">\n",
       "  <thead>\n",
       "    <tr style=\"text-align: right;\">\n",
       "      <th></th>\n",
       "      <th>INTERSECTIONTYPE</th>\n",
       "      <th>ISWORKZONERELATED</th>\n",
       "      <th>FIRSTHARMFULEVENTSPECIFICS</th>\n",
       "      <th>LIGHTCONDITION</th>\n",
       "      <th>WEATHER</th>\n",
       "      <th>ISDRINKING</th>\n",
       "      <th>CYCLISTSINVOLVED</th>\n",
       "      <th>PEDESTRIANSINVOLVED</th>\n",
       "      <th>MINORINJURIES</th>\n",
       "      <th>MAJORINJURIES</th>\n",
       "      <th>...</th>\n",
       "      <th>weather_Fog, Smog, Smoke</th>\n",
       "      <th>weather_Freezing Rain Or Freezing Drizzle</th>\n",
       "      <th>weather_Mist</th>\n",
       "      <th>weather_Other</th>\n",
       "      <th>weather_Rain</th>\n",
       "      <th>weather_Severe Crosswinds</th>\n",
       "      <th>weather_Sleet Or Hail</th>\n",
       "      <th>weather_Snow</th>\n",
       "      <th>weather_Unknown</th>\n",
       "      <th>weather_null</th>\n",
       "    </tr>\n",
       "  </thead>\n",
       "  <tbody>\n",
       "    <tr>\n",
       "      <th>0</th>\n",
       "      <td>null</td>\n",
       "      <td>0</td>\n",
       "      <td>Parked Motor Vehicle</td>\n",
       "      <td>Dark- Lighted</td>\n",
       "      <td>Clear</td>\n",
       "      <td>No data provided</td>\n",
       "      <td>0</td>\n",
       "      <td>0</td>\n",
       "      <td>0</td>\n",
       "      <td>0</td>\n",
       "      <td>...</td>\n",
       "      <td>0.0</td>\n",
       "      <td>0.0</td>\n",
       "      <td>0.0</td>\n",
       "      <td>0.0</td>\n",
       "      <td>0.0</td>\n",
       "      <td>0.0</td>\n",
       "      <td>0.0</td>\n",
       "      <td>0.0</td>\n",
       "      <td>0.0</td>\n",
       "      <td>0.0</td>\n",
       "    </tr>\n",
       "    <tr>\n",
       "      <th>1</th>\n",
       "      <td>null</td>\n",
       "      <td>0</td>\n",
       "      <td>Other Non-fixed Object</td>\n",
       "      <td>null</td>\n",
       "      <td>null</td>\n",
       "      <td>No data provided</td>\n",
       "      <td>0</td>\n",
       "      <td>0</td>\n",
       "      <td>0</td>\n",
       "      <td>0</td>\n",
       "      <td>...</td>\n",
       "      <td>0.0</td>\n",
       "      <td>0.0</td>\n",
       "      <td>0.0</td>\n",
       "      <td>0.0</td>\n",
       "      <td>0.0</td>\n",
       "      <td>0.0</td>\n",
       "      <td>0.0</td>\n",
       "      <td>0.0</td>\n",
       "      <td>0.0</td>\n",
       "      <td>1.0</td>\n",
       "    </tr>\n",
       "    <tr>\n",
       "      <th>2</th>\n",
       "      <td>null</td>\n",
       "      <td>0</td>\n",
       "      <td>Injury</td>\n",
       "      <td>null</td>\n",
       "      <td>null</td>\n",
       "      <td>No data provided</td>\n",
       "      <td>0</td>\n",
       "      <td>0</td>\n",
       "      <td>0</td>\n",
       "      <td>1</td>\n",
       "      <td>...</td>\n",
       "      <td>0.0</td>\n",
       "      <td>0.0</td>\n",
       "      <td>0.0</td>\n",
       "      <td>0.0</td>\n",
       "      <td>0.0</td>\n",
       "      <td>0.0</td>\n",
       "      <td>0.0</td>\n",
       "      <td>0.0</td>\n",
       "      <td>0.0</td>\n",
       "      <td>1.0</td>\n",
       "    </tr>\n",
       "    <tr>\n",
       "      <th>3</th>\n",
       "      <td>null</td>\n",
       "      <td>0</td>\n",
       "      <td>Hit and Run</td>\n",
       "      <td>null</td>\n",
       "      <td>null</td>\n",
       "      <td>No data provided</td>\n",
       "      <td>0</td>\n",
       "      <td>0</td>\n",
       "      <td>0</td>\n",
       "      <td>0</td>\n",
       "      <td>...</td>\n",
       "      <td>0.0</td>\n",
       "      <td>0.0</td>\n",
       "      <td>0.0</td>\n",
       "      <td>0.0</td>\n",
       "      <td>0.0</td>\n",
       "      <td>0.0</td>\n",
       "      <td>0.0</td>\n",
       "      <td>0.0</td>\n",
       "      <td>0.0</td>\n",
       "      <td>1.0</td>\n",
       "    </tr>\n",
       "    <tr>\n",
       "      <th>4</th>\n",
       "      <td>null</td>\n",
       "      <td>0</td>\n",
       "      <td>Other Non-fixed Object</td>\n",
       "      <td>Dark- Lighted</td>\n",
       "      <td>Clear</td>\n",
       "      <td>No data provided</td>\n",
       "      <td>0</td>\n",
       "      <td>0</td>\n",
       "      <td>0</td>\n",
       "      <td>0</td>\n",
       "      <td>...</td>\n",
       "      <td>0.0</td>\n",
       "      <td>0.0</td>\n",
       "      <td>0.0</td>\n",
       "      <td>0.0</td>\n",
       "      <td>0.0</td>\n",
       "      <td>0.0</td>\n",
       "      <td>0.0</td>\n",
       "      <td>0.0</td>\n",
       "      <td>0.0</td>\n",
       "      <td>0.0</td>\n",
       "    </tr>\n",
       "  </tbody>\n",
       "</table>\n",
       "<p>5 rows × 86 columns</p>\n",
       "</div>"
      ],
      "text/plain": [
       "  INTERSECTIONTYPE  ISWORKZONERELATED FIRSTHARMFULEVENTSPECIFICS  \\\n",
       "0             null                  0       Parked Motor Vehicle   \n",
       "1             null                  0     Other Non-fixed Object   \n",
       "2             null                  0                     Injury   \n",
       "3             null                  0                Hit and Run   \n",
       "4             null                  0     Other Non-fixed Object   \n",
       "\n",
       "  LIGHTCONDITION WEATHER        ISDRINKING  CYCLISTSINVOLVED  \\\n",
       "0  Dark- Lighted   Clear  No data provided                 0   \n",
       "1           null    null  No data provided                 0   \n",
       "2           null    null  No data provided                 0   \n",
       "3           null    null  No data provided                 0   \n",
       "4  Dark- Lighted   Clear  No data provided                 0   \n",
       "\n",
       "   PEDESTRIANSINVOLVED  MINORINJURIES  MAJORINJURIES      ...       \\\n",
       "0                    0              0              0      ...        \n",
       "1                    0              0              0      ...        \n",
       "2                    0              0              1      ...        \n",
       "3                    0              0              0      ...        \n",
       "4                    0              0              0      ...        \n",
       "\n",
       "   weather_Fog, Smog, Smoke  weather_Freezing Rain Or Freezing Drizzle  \\\n",
       "0                       0.0                                        0.0   \n",
       "1                       0.0                                        0.0   \n",
       "2                       0.0                                        0.0   \n",
       "3                       0.0                                        0.0   \n",
       "4                       0.0                                        0.0   \n",
       "\n",
       "   weather_Mist  weather_Other  weather_Rain  weather_Severe Crosswinds  \\\n",
       "0           0.0            0.0           0.0                        0.0   \n",
       "1           0.0            0.0           0.0                        0.0   \n",
       "2           0.0            0.0           0.0                        0.0   \n",
       "3           0.0            0.0           0.0                        0.0   \n",
       "4           0.0            0.0           0.0                        0.0   \n",
       "\n",
       "   weather_Sleet Or Hail  weather_Snow  weather_Unknown  weather_null  \n",
       "0                    0.0           0.0              0.0           0.0  \n",
       "1                    0.0           0.0              0.0           1.0  \n",
       "2                    0.0           0.0              0.0           1.0  \n",
       "3                    0.0           0.0              0.0           1.0  \n",
       "4                    0.0           0.0              0.0           0.0  \n",
       "\n",
       "[5 rows x 86 columns]"
      ]
     },
     "execution_count": 153,
     "metadata": {},
     "output_type": "execute_result"
    }
   ],
   "source": [
    "data = data.join(weather_dummies.ix[:, 'weather_Blowing Sand Soil, Dirt':])\n",
    "data.head()"
   ]
  },
  {
   "cell_type": "code",
   "execution_count": 154,
   "metadata": {
    "collapsed": false
   },
   "outputs": [],
   "source": [
    "#drop data that is null or unknown, drop non-dummied variables\n",
    "data = data.drop(['FIRSTHARMFULEVENTSPECIFICS', 'ISDRINKING', 'INTERSECTIONTYPE', 'WEATHER', 'LIGHTCONDITION', 'event_Unknown', 'event_null', 'light_null', 'drink_No data provided','int_null', 'weather_null', 'weather_Other', 'weather_Unknown'], 1)"
   ]
  },
  {
   "cell_type": "code",
   "execution_count": 184,
   "metadata": {
    "collapsed": false
   },
   "outputs": [
    {
     "data": {
      "text/plain": [
       "<matplotlib.axes._subplots.AxesSubplot at 0x132f14950>"
      ]
     },
     "execution_count": 184,
     "metadata": {},
     "output_type": "execute_result"
    },
    {
     "data": {
      "image/png": "[encoded data removed]",
      "text/plain": [
       "<matplotlib.figure.Figure at 0x132f1bf10>"
      ]
     },
     "metadata": {},
     "output_type": "display_data"
    }
   ],
   "source": [
    "#set font scale to see all labels\n",
    "sns.set(font_scale=0.4)\n",
    "#create correlation matrix \n",
    "corr = data.corr()\n",
    "#create heatmap of the correlation matrix\n",
    "sns.heatmap(corr)\n"
   ]
  },
  {
   "cell_type": "markdown",
   "metadata": {},
   "source": [
    "From the heatmap we can see that `event_Pedalcycle` and `PEDESTRIANSINVOLVED`, and `event_Pedestrian` and `PEDESTRIANSINVOLVED` have higher correlations, which makes sense. We can also see that `event_Motor Vehicle in Transport` has a lower correlation with `event_Hit and Run` and `event_Parked Motore Vehicle`.  `weather_Rain` and `weather_Clear` have a low correlation as well. "
   ]
  },
  {
   "cell_type": "code",
   "execution_count": 160,
   "metadata": {
    "collapsed": false
   },
   "outputs": [],
   "source": [
    "#reorder the dataset - put XCOORD, YCOORD, and FATALITIES at the beginning of the dataframe \n",
    "XCOORD = data.XCOORD\n",
    "YCOORD = data.YCOORD\n",
    "FATALITIES = data.FATALITIES \n",
    "data.drop(labels=['XCOORD', 'YCOORD', 'FATALITIES'], axis=1, inplace=True)\n",
    "\n",
    "data.insert(0, 'FATALITIES', FATALITIES)\n",
    "data.insert(0, 'YCOORD', YCOORD)\n",
    "data.insert(0, 'XCOORD', XCOORD)"
   ]
  },
  {
   "cell_type": "code",
   "execution_count": 180,
   "metadata": {
    "collapsed": false
   },
   "outputs": [
    {
     "data": {
      "text/plain": [
       "[ISWORKZONERELATED                                                                     0.003163\n",
       " CYCLISTSINVOLVED                                                                      0.008617\n",
       " PEDESTRIANSINVOLVED                                                                  -0.000319\n",
       " MINORINJURIES                                                                         0.004555\n",
       " MAJORINJURIES                                                                        -0.002687\n",
       " event_Bridge Overhead Structure                                                      -0.000264\n",
       " event_Bridge Pier Or Support                                                         -0.000305\n",
       " event_Bridge Rail                                                                    -0.000417\n",
       " event_Cable Barrier                                                                  -0.000187\n",
       " event_Cargo/Equipment Loss Or Shift                                                   0.006672\n",
       " event_Commercial Vehicle                                                             -0.001418\n",
       " event_Concrete Traffic Barrier                                                        0.002841\n",
       " event_Culvert                                                                        -0.000187\n",
       " event_Curb                                                                           -0.001462\n",
       " event_D.C. Property                                                                   0.003502\n",
       " event_Ditch                                                                          -0.000305\n",
       " event_Embankment                                                                     -0.000285\n",
       " event_Fatality                                                                       -0.000187\n",
       " event_Fell/Jumped From Motor Vehicle                                                 -0.000494\n",
       " event_Fence                                                                          -0.001146\n",
       " event_Fire/Explosion                                                                 -0.000323\n",
       " event_Guardrail End                                                                  -0.000482\n",
       " event_Guardrail Face                                                                 -0.000715\n",
       " event_Hit and Run                                                                    -0.011933\n",
       " event_Impact Attenuator/Crash Cushion                                                -0.000444\n",
       " event_Injury                                                                         -0.002103\n",
       " event_Jackknife                                                                      -0.000241\n",
       " event_Mailbox                                                                        -0.000152\n",
       " event_Motor Vehicle In Transport                                                     -0.012750\n",
       " event_Other Fixed Object (Wall, Building, Tunnel, Etc.)                               0.014759\n",
       " event_Other Non-collision                                                             0.008003\n",
       " event_Other Non-fixed Object                                                          0.000213\n",
       " event_Other Post, Pole Or Support                                                    -0.001486\n",
       " event_Other Property Damage                                                          -0.001051\n",
       " event_Other Traffic Barrier                                                           0.016526\n",
       " event_Overturn/Rollover                                                              -0.001186\n",
       " event_Parked Motor Vehicle                                                           -0.005311\n",
       " event_Pedalcycle                                                                     -0.001455\n",
       " event_Pedestrian                                                                      0.030315\n",
       " event_Railway Vehicle (train, engine)                                                -0.000517\n",
       " event_Struck By Falling, Shifting Cargo Or Anything Set In Motion By Motor Vehicle   -0.000323\n",
       " event_Traffic Sign Support                                                           -0.000580\n",
       " event_Traffic Signal Support                                                         -0.000842\n",
       " event_Tree(standing)                                                                 -0.001196\n",
       " event_Utility Pole/light Support                                                     -0.001120\n",
       " event_Work Zone/maintenance Equipment                                                -0.000908\n",
       " light_Dawn                                                                            0.006320\n",
       " light_Daylight                                                                       -0.013906\n",
       " light_Dusk                                                                           -0.002901\n",
       " light_Other                                                                           0.000296\n",
       " light_Unknown                                                                        -0.005178\n",
       " drink_Yes                                                                            -0.001599\n",
       " int_Four-Way Intersection                                                            -0.007600\n",
       " int_L-Intersection                                                                   -0.001902\n",
       " int_Not an Intersection                                                              -0.009857\n",
       " int_Roundabout                                                                       -0.001722\n",
       " int_T-Intersection                                                                    0.000753\n",
       " int_Traffic Circle                                                                   -0.001486\n",
       " int_Y-Intersection                                                                   -0.001588\n",
       " weather_Blowing Sand, Soil, Dirt                                                      0.004019\n",
       " weather_Blowing Snow                                                                 -0.000715\n",
       " weather_Clear                                                                         0.006531\n",
       " weather_Cloudy                                                                        0.000229\n",
       " weather_Fog, Smog, Smoke                                                              0.003495\n",
       " weather_Freezing Rain Or Freezing Drizzle                                            -0.000921\n",
       " weather_Mist                                                                         -0.002044\n",
       " weather_Rain                                                                         -0.002904\n",
       " weather_Severe Crosswinds                                                             0.004502\n",
       " weather_Sleet Or Hail                                                                -0.001585\n",
       " weather_Snow                                                                          0.000608\n",
       " dtype: float64]"
      ]
     },
     "execution_count": 180,
     "metadata": {},
     "output_type": "execute_result"
    }
   ],
   "source": [
    "#calculate correlation between all variables (except the coordinates) and FATALITIES \n",
    "fatalities_corrs = [data[data.columns[3:]].apply(lambda x: x.corr(data['FATALITIES']))]\n",
    "pd.set_option('max_rows', 100)\n",
    "fatalities_corrs"
   ]
  },
  {
   "cell_type": "markdown",
   "metadata": {},
   "source": [
    "From the above list, we can see that the calculated correlations between all variables and `FATALITIES` is very slight, with the only correlation being outside of -0.016 and 0.016 is `event_Pedestrian`, at 0.03."
   ]
  },
  {
   "cell_type": "code",
   "execution_count": null,
   "metadata": {
    "collapsed": true
   },
   "outputs": [],
   "source": []
  }
 ],
 "metadata": {
  "anaconda-cloud": {},
  "kernelspec": {
   "display_name": "Python [conda root]",
   "language": "python",
   "name": "conda-root-py"
  }
 },
 "nbformat": 4,
 "nbformat_minor": 1
}
