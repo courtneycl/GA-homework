{
 "cells": [
  {
   "cell_type": "markdown",
   "metadata": {},
   "source": [
    "## Contents\n",
    "1. [Introduction](http://localhost:8888/notebooks/GA-homework/Final%20Project/4-DraftNotebook.ipynb#Introduction)\n",
    "2. [Dataset](http://localhost:8888/notebooks/GA-homework/Final%20Project/4-DraftNotebook.ipynb#Dataset)\n",
    "3. [Exploratory Analysis](http://localhost:8888/notebooks/GA-homework/Final%20Project/4-DraftNotebook.ipynb#Exploratory-Analysis)\n",
    "4. [Data Cleaning](http://localhost:8888/notebooks/GA-homework/Final%20Project/4-DraftNotebook.ipynb#Data-visualisation)\n",
    "5. [Creating a Model](http://localhost:8888/notebooks/GA-homework/Final%20Project/4-DraftNotebook.ipynb#Creating-a-model)\n",
    "6. [Visualize Probability](http://localhost:8888/notebooks/GA-homework/Final%20Project/4-DraftNotebook.ipynb#Visualize-probability-of-different-features)\n",
    "7. [Visualize Performance](http://localhost:8888/notebooks/GA-homework/Final%20Project/4-DraftNotebook.ipynb#Visualize-performance-against-baseline)\n",
    "8. [Next Steps](http://localhost:8888/notebooks/GA-homework/Final%20Project/4-DraftNotebook.ipynb#Next-Steps)"
   ]
  },
  {
   "cell_type": "markdown",
   "metadata": {},
   "source": [
    "## Introduction\n",
    "\n",
    "Vision Zero is a worldwide initiative that is adopted by cities to get all traffic related deaths down to zero. DC adopted this in 2015 with the goal of achieving Vision Zero by 2024. DC has published data on crashes from 2000 to 2016. The goal of this study is to analyze crashes in DC and predict whether a crash will be fatal or not (predicting a binary value). Similarly, this study will determine the greatest factors in fatal crashes. \n",
    "\n",
    "The results of this study can be used to inform appropriate advertising campaigns for Vision Zero. The results can also be used to inform the District on places where traffic calming initiatives should be instated. \n",
    "\n",
    "When considering what factors have on whether a crash is fatal or not, I predict that major injuries and the type of crash will have the most impact. \n"
   ]
  },
  {
   "cell_type": "markdown",
   "metadata": {},
   "source": [
    "# Dataset\n",
    "\n",
    "Crash data from Washington DC is available from opendata.dc.gov. It is available for download in CSV format (along with accessible through an API). It has crashes from 2000 to 2016, has 152,744 rows, and 13 columns that we will use for this study. \n",
    "\n",
    "### Data Dictionary\n",
    "\n",
    "Data Dictionary: \n",
    "\n",
    "| ﻿Field                        | Description                                           | Data Type   |\n",
    "|------------------------------|-------------------------------------------------------|-------------|\n",
    "| XCOORD                       | X coordinate                                          | Location    |\n",
    "| YCOORD                       | Y coordinate                                          | Location    |\n",
    "| INTERSECTIONTYPE             | Type of interesction where the crash occured          | Categorical |\n",
    "| ISWORKZONERELATED            | Did the crash happen at a work zone (0 = no, 1 = yes) | Categorical |\n",
    "| FIRSTHARMFULEVENTSPECIFICS   | Specifics of the crash - what the car hit, etc        | Categorical |\n",
    "| LIGHTCONDITION               | Light condition at time of crash                      | Categorical |\n",
    "| WEATHER                      | Weather at time of crash                              | Categorical |\n",
    "| ISDRINKING                   | Did the crash involve  alcohol                        | Categorical |\n",
    "| CYCLISTSINVOLVED             | How many cyclists were involved                       | Continuous  |\n",
    "| PEDESTRIANSINVOLVED          | How many pedestrians were involved                    | Continuous  |\n",
    "| MINORINJURIES                | How many minor injuries occurred                      | Continuous  |\n",
    "| MAJORINJURIES                | How many major injuries occurred                      | Continuous  |\n",
    "| FATALITIES                   | How many fatalities occurred                          | Continuous  |"
   ]
  },
  {
   "cell_type": "code",
   "execution_count": 158,
   "metadata": {
    "collapsed": true,
    "scrolled": true
   },
   "outputs": [],
   "source": [
    "#importfest\n",
    "import pandas as pd\n",
    "import numpy as np\n",
    "import matplotlib.pyplot as plt\n",
    "import seaborn as sns\n",
    "%matplotlib inline"
   ]
  },
  {
   "cell_type": "code",
   "execution_count": 159,
   "metadata": {
    "collapsed": true
   },
   "outputs": [],
   "source": [
    "#This dataset has 63 features - only add the columns that we are interested in \n",
    "data = pd.read_csv('./assets/Crashes.csv', usecols=['XCOORD', 'YCOORD', 'INTERSECTIONTYPE', 'ISWORKZONERELATED', 'FIRSTHARMFULEVENTSPECIFICS', 'LIGHTCONDITION', 'WEATHER', 'ISDRINKING', 'CYCLISTSINVOLVED', 'PEDESTRIANSINVOLVED', 'MINORINJURIES', 'MAJORINJURIES', 'FATALITIES'])"
   ]
  },
  {
   "cell_type": "code",
   "execution_count": 160,
   "metadata": {},
   "outputs": [
    {
     "data": {
      "text/html": [
       "<div>\n",
       "<style>\n",
       "    .dataframe thead tr:only-child th {\n",
       "        text-align: right;\n",
       "    }\n",
       "\n",
       "    .dataframe thead th {\n",
       "        text-align: left;\n",
       "    }\n",
       "\n",
       "    .dataframe tbody tr th {\n",
       "        vertical-align: top;\n",
       "    }\n",
       "</style>\n",
       "<table border=\"1\" class=\"dataframe\">\n",
       "  <thead>\n",
       "    <tr style=\"text-align: right;\">\n",
       "      <th></th>\n",
       "      <th>INTERSECTIONTYPE</th>\n",
       "      <th>ISWORKZONERELATED</th>\n",
       "      <th>FIRSTHARMFULEVENTSPECIFICS</th>\n",
       "      <th>LIGHTCONDITION</th>\n",
       "      <th>WEATHER</th>\n",
       "      <th>ISDRINKING</th>\n",
       "      <th>CYCLISTSINVOLVED</th>\n",
       "      <th>PEDESTRIANSINVOLVED</th>\n",
       "      <th>MINORINJURIES</th>\n",
       "      <th>MAJORINJURIES</th>\n",
       "      <th>FATALITIES</th>\n",
       "      <th>XCOORD</th>\n",
       "      <th>YCOORD</th>\n",
       "    </tr>\n",
       "  </thead>\n",
       "  <tbody>\n",
       "    <tr>\n",
       "      <th>0</th>\n",
       "      <td>null</td>\n",
       "      <td>0</td>\n",
       "      <td>Parked Motor Vehicle</td>\n",
       "      <td>Dark- Lighted</td>\n",
       "      <td>Clear</td>\n",
       "      <td>No data provided</td>\n",
       "      <td>NaN</td>\n",
       "      <td>NaN</td>\n",
       "      <td>NaN</td>\n",
       "      <td>NaN</td>\n",
       "      <td>NaN</td>\n",
       "      <td>-76.931799</td>\n",
       "      <td>38.888110</td>\n",
       "    </tr>\n",
       "    <tr>\n",
       "      <th>1</th>\n",
       "      <td>null</td>\n",
       "      <td>0</td>\n",
       "      <td>Other Non-fixed Object</td>\n",
       "      <td>null</td>\n",
       "      <td>null</td>\n",
       "      <td>No data provided</td>\n",
       "      <td>NaN</td>\n",
       "      <td>NaN</td>\n",
       "      <td>NaN</td>\n",
       "      <td>NaN</td>\n",
       "      <td>NaN</td>\n",
       "      <td>NaN</td>\n",
       "      <td>NaN</td>\n",
       "    </tr>\n",
       "    <tr>\n",
       "      <th>2</th>\n",
       "      <td>null</td>\n",
       "      <td>0</td>\n",
       "      <td>Injury</td>\n",
       "      <td>null</td>\n",
       "      <td>null</td>\n",
       "      <td>No data provided</td>\n",
       "      <td>NaN</td>\n",
       "      <td>NaN</td>\n",
       "      <td>NaN</td>\n",
       "      <td>1.0</td>\n",
       "      <td>NaN</td>\n",
       "      <td>-76.973458</td>\n",
       "      <td>38.933115</td>\n",
       "    </tr>\n",
       "    <tr>\n",
       "      <th>3</th>\n",
       "      <td>null</td>\n",
       "      <td>0</td>\n",
       "      <td>Hit and Run</td>\n",
       "      <td>null</td>\n",
       "      <td>null</td>\n",
       "      <td>No data provided</td>\n",
       "      <td>NaN</td>\n",
       "      <td>NaN</td>\n",
       "      <td>NaN</td>\n",
       "      <td>NaN</td>\n",
       "      <td>NaN</td>\n",
       "      <td>-76.989447</td>\n",
       "      <td>38.927668</td>\n",
       "    </tr>\n",
       "    <tr>\n",
       "      <th>4</th>\n",
       "      <td>null</td>\n",
       "      <td>0</td>\n",
       "      <td>Other Non-fixed Object</td>\n",
       "      <td>Dark- Lighted</td>\n",
       "      <td>Clear</td>\n",
       "      <td>No data provided</td>\n",
       "      <td>NaN</td>\n",
       "      <td>NaN</td>\n",
       "      <td>NaN</td>\n",
       "      <td>NaN</td>\n",
       "      <td>NaN</td>\n",
       "      <td>-77.044894</td>\n",
       "      <td>38.906458</td>\n",
       "    </tr>\n",
       "  </tbody>\n",
       "</table>\n",
       "</div>"
      ],
      "text/plain": [
       "  INTERSECTIONTYPE  ISWORKZONERELATED FIRSTHARMFULEVENTSPECIFICS  \\\n",
       "0             null                  0       Parked Motor Vehicle   \n",
       "1             null                  0     Other Non-fixed Object   \n",
       "2             null                  0                     Injury   \n",
       "3             null                  0                Hit and Run   \n",
       "4             null                  0     Other Non-fixed Object   \n",
       "\n",
       "  LIGHTCONDITION WEATHER        ISDRINKING  CYCLISTSINVOLVED  \\\n",
       "0  Dark- Lighted   Clear  No data provided               NaN   \n",
       "1           null    null  No data provided               NaN   \n",
       "2           null    null  No data provided               NaN   \n",
       "3           null    null  No data provided               NaN   \n",
       "4  Dark- Lighted   Clear  No data provided               NaN   \n",
       "\n",
       "   PEDESTRIANSINVOLVED  MINORINJURIES  MAJORINJURIES  FATALITIES     XCOORD  \\\n",
       "0                  NaN            NaN            NaN         NaN -76.931799   \n",
       "1                  NaN            NaN            NaN         NaN        NaN   \n",
       "2                  NaN            NaN            1.0         NaN -76.973458   \n",
       "3                  NaN            NaN            NaN         NaN -76.989447   \n",
       "4                  NaN            NaN            NaN         NaN -77.044894   \n",
       "\n",
       "      YCOORD  \n",
       "0  38.888110  \n",
       "1        NaN  \n",
       "2  38.933115  \n",
       "3  38.927668  \n",
       "4  38.906458  "
      ]
     },
     "execution_count": 160,
     "metadata": {},
     "output_type": "execute_result"
    }
   ],
   "source": [
    "data.head()"
   ]
  },
  {
   "cell_type": "markdown",
   "metadata": {},
   "source": [
    "# Exploratory Analysis\n",
    "\n",
    "We'll take a look at each of the independent variables next to the dependent variable (`FATALITIES`)."
   ]
  },
  {
   "cell_type": "markdown",
   "metadata": {},
   "source": [
    "### First Harmful Event Specifics "
   ]
  },
  {
   "cell_type": "markdown",
   "metadata": {},
   "source": [
    "It's clear here that crashes with the first impact of `Motor Vehicle in Transport` has the highest amount of fatalities. This makes sense - it's also the most common cause of all crashes. The second highest is `Pedestrian`, then followed by `Motor Vehicle in Transport`. 17 fatalities have `null` values for `FIRSTHARMFULEVENTSPECIFICS` and are not accounted for in this variable. The numbers are below: "
   ]
  },
  {
   "cell_type": "code",
   "execution_count": 161,
   "metadata": {
    "scrolled": false
   },
   "outputs": [
    {
     "data": {
      "text/plain": [
       "<matplotlib.legend.Legend at 0x11ea68e80>"
      ]
     },
     "execution_count": 161,
     "metadata": {},
     "output_type": "execute_result"
    },
    {
     "data": {
      "image/png": "[encoded data removed]",
      "text/plain": [
       "<matplotlib.figure.Figure at 0x11e803e10>"
      ]
     },
     "metadata": {},
     "output_type": "display_data"
    }
   ],
   "source": [
    "sns.set(font_scale=0.6)\n",
    "#sns.set_context(\"talk\") \n",
    "sns.countplot(y=\"FIRSTHARMFULEVENTSPECIFICS\", hue=\"FATALITIES\", data=data)\n",
    "plt.legend(bbox_to_anchor=(1.05, 1), loc=2, title=\"Fatalities\")"
   ]
  },
  {
   "cell_type": "code",
   "execution_count": 162,
   "metadata": {
    "scrolled": false
   },
   "outputs": [
    {
     "data": {
      "text/html": [
       "<div>\n",
       "<style>\n",
       "    .dataframe thead tr:only-child th {\n",
       "        text-align: right;\n",
       "    }\n",
       "\n",
       "    .dataframe thead th {\n",
       "        text-align: left;\n",
       "    }\n",
       "\n",
       "    .dataframe tbody tr th {\n",
       "        vertical-align: top;\n",
       "    }\n",
       "</style>\n",
       "<table border=\"1\" class=\"dataframe\">\n",
       "  <thead>\n",
       "    <tr style=\"text-align: right;\">\n",
       "      <th>FATALITIES</th>\n",
       "      <th>1.0</th>\n",
       "      <th>2.0</th>\n",
       "      <th>3.0</th>\n",
       "      <th>4.0</th>\n",
       "      <th>All</th>\n",
       "    </tr>\n",
       "    <tr>\n",
       "      <th>FIRSTHARMFULEVENTSPECIFICS</th>\n",
       "      <th></th>\n",
       "      <th></th>\n",
       "      <th></th>\n",
       "      <th></th>\n",
       "      <th></th>\n",
       "    </tr>\n",
       "  </thead>\n",
       "  <tbody>\n",
       "    <tr>\n",
       "      <th>Animal</th>\n",
       "      <td>1</td>\n",
       "      <td>0</td>\n",
       "      <td>0</td>\n",
       "      <td>0</td>\n",
       "      <td>1</td>\n",
       "    </tr>\n",
       "    <tr>\n",
       "      <th>Cargo/Equipment Loss Or Shift</th>\n",
       "      <td>1</td>\n",
       "      <td>0</td>\n",
       "      <td>0</td>\n",
       "      <td>0</td>\n",
       "      <td>1</td>\n",
       "    </tr>\n",
       "    <tr>\n",
       "      <th>Concrete Traffic Barrier</th>\n",
       "      <td>1</td>\n",
       "      <td>0</td>\n",
       "      <td>0</td>\n",
       "      <td>0</td>\n",
       "      <td>1</td>\n",
       "    </tr>\n",
       "    <tr>\n",
       "      <th>D.C. Property</th>\n",
       "      <td>1</td>\n",
       "      <td>0</td>\n",
       "      <td>0</td>\n",
       "      <td>0</td>\n",
       "      <td>1</td>\n",
       "    </tr>\n",
       "    <tr>\n",
       "      <th>Hit and Run</th>\n",
       "      <td>8</td>\n",
       "      <td>1</td>\n",
       "      <td>0</td>\n",
       "      <td>0</td>\n",
       "      <td>9</td>\n",
       "    </tr>\n",
       "    <tr>\n",
       "      <th>Motor Vehicle In Transport</th>\n",
       "      <td>114</td>\n",
       "      <td>11</td>\n",
       "      <td>1</td>\n",
       "      <td>1</td>\n",
       "      <td>127</td>\n",
       "    </tr>\n",
       "    <tr>\n",
       "      <th>Other Fixed Object (Wall, Building, Tunnel, Etc.)</th>\n",
       "      <td>19</td>\n",
       "      <td>11</td>\n",
       "      <td>0</td>\n",
       "      <td>0</td>\n",
       "      <td>30</td>\n",
       "    </tr>\n",
       "    <tr>\n",
       "      <th>Other Non-collision</th>\n",
       "      <td>12</td>\n",
       "      <td>2</td>\n",
       "      <td>0</td>\n",
       "      <td>0</td>\n",
       "      <td>14</td>\n",
       "    </tr>\n",
       "    <tr>\n",
       "      <th>Other Non-fixed Object</th>\n",
       "      <td>8</td>\n",
       "      <td>1</td>\n",
       "      <td>0</td>\n",
       "      <td>0</td>\n",
       "      <td>9</td>\n",
       "    </tr>\n",
       "    <tr>\n",
       "      <th>Other Property Damage</th>\n",
       "      <td>1</td>\n",
       "      <td>0</td>\n",
       "      <td>0</td>\n",
       "      <td>0</td>\n",
       "      <td>1</td>\n",
       "    </tr>\n",
       "    <tr>\n",
       "      <th>Other Traffic Barrier</th>\n",
       "      <td>1</td>\n",
       "      <td>1</td>\n",
       "      <td>1</td>\n",
       "      <td>0</td>\n",
       "      <td>3</td>\n",
       "    </tr>\n",
       "    <tr>\n",
       "      <th>Parked Motor Vehicle</th>\n",
       "      <td>24</td>\n",
       "      <td>5</td>\n",
       "      <td>1</td>\n",
       "      <td>0</td>\n",
       "      <td>30</td>\n",
       "    </tr>\n",
       "    <tr>\n",
       "      <th>Pedestrian</th>\n",
       "      <td>54</td>\n",
       "      <td>8</td>\n",
       "      <td>0</td>\n",
       "      <td>0</td>\n",
       "      <td>62</td>\n",
       "    </tr>\n",
       "    <tr>\n",
       "      <th>Unknown</th>\n",
       "      <td>1</td>\n",
       "      <td>0</td>\n",
       "      <td>0</td>\n",
       "      <td>0</td>\n",
       "      <td>1</td>\n",
       "    </tr>\n",
       "    <tr>\n",
       "      <th>null</th>\n",
       "      <td>9</td>\n",
       "      <td>8</td>\n",
       "      <td>0</td>\n",
       "      <td>0</td>\n",
       "      <td>17</td>\n",
       "    </tr>\n",
       "    <tr>\n",
       "      <th>All</th>\n",
       "      <td>255</td>\n",
       "      <td>48</td>\n",
       "      <td>3</td>\n",
       "      <td>1</td>\n",
       "      <td>307</td>\n",
       "    </tr>\n",
       "  </tbody>\n",
       "</table>\n",
       "</div>"
      ],
      "text/plain": [
       "FATALITIES                                         1.0  2.0  3.0  4.0  All\n",
       "FIRSTHARMFULEVENTSPECIFICS                                                \n",
       "Animal                                               1    0    0    0    1\n",
       "Cargo/Equipment Loss Or Shift                        1    0    0    0    1\n",
       "Concrete Traffic Barrier                             1    0    0    0    1\n",
       "D.C. Property                                        1    0    0    0    1\n",
       "Hit and Run                                          8    1    0    0    9\n",
       "Motor Vehicle In Transport                         114   11    1    1  127\n",
       "Other Fixed Object (Wall, Building, Tunnel, Etc.)   19   11    0    0   30\n",
       "Other Non-collision                                 12    2    0    0   14\n",
       "Other Non-fixed Object                               8    1    0    0    9\n",
       "Other Property Damage                                1    0    0    0    1\n",
       "Other Traffic Barrier                                1    1    1    0    3\n",
       "Parked Motor Vehicle                                24    5    1    0   30\n",
       "Pedestrian                                          54    8    0    0   62\n",
       "Unknown                                              1    0    0    0    1\n",
       "null                                                 9    8    0    0   17\n",
       "All                                                255   48    3    1  307"
      ]
     },
     "execution_count": 162,
     "metadata": {},
     "output_type": "execute_result"
    }
   ],
   "source": [
    "pd.crosstab(data['FIRSTHARMFULEVENTSPECIFICS'], data['FATALITIES'], margins=True)"
   ]
  },
  {
   "cell_type": "markdown",
   "metadata": {},
   "source": [
    "### Light Condition"
   ]
  },
  {
   "cell_type": "markdown",
   "metadata": {},
   "source": [
    "From the chart and table below, we see that fatal accidents are usually occuring during the daylight or at dark with streetlights."
   ]
  },
  {
   "cell_type": "code",
   "execution_count": 163,
   "metadata": {},
   "outputs": [
    {
     "data": {
      "text/plain": [
       "<matplotlib.legend.Legend at 0x12508fc50>"
      ]
     },
     "execution_count": 163,
     "metadata": {},
     "output_type": "execute_result"
    },
    {
     "data": {
      "image/png": "[encoded data removed]",
      "text/plain": [
       "<matplotlib.figure.Figure at 0x11e8e9b38>"
      ]
     },
     "metadata": {},
     "output_type": "display_data"
    }
   ],
   "source": [
    "sns.set(font_scale=1)\n",
    "sns.countplot(y=\"LIGHTCONDITION\", hue=\"FATALITIES\", data=data)\n",
    "plt.legend(bbox_to_anchor=(1.05, 1), loc=2, title=\"Fatalities\")"
   ]
  },
  {
   "cell_type": "code",
   "execution_count": 164,
   "metadata": {
    "scrolled": true
   },
   "outputs": [
    {
     "data": {
      "text/html": [
       "<div>\n",
       "<style>\n",
       "    .dataframe thead tr:only-child th {\n",
       "        text-align: right;\n",
       "    }\n",
       "\n",
       "    .dataframe thead th {\n",
       "        text-align: left;\n",
       "    }\n",
       "\n",
       "    .dataframe tbody tr th {\n",
       "        vertical-align: top;\n",
       "    }\n",
       "</style>\n",
       "<table border=\"1\" class=\"dataframe\">\n",
       "  <thead>\n",
       "    <tr style=\"text-align: right;\">\n",
       "      <th>FATALITIES</th>\n",
       "      <th>1.0</th>\n",
       "      <th>2.0</th>\n",
       "      <th>3.0</th>\n",
       "      <th>4.0</th>\n",
       "      <th>All</th>\n",
       "    </tr>\n",
       "    <tr>\n",
       "      <th>LIGHTCONDITION</th>\n",
       "      <th></th>\n",
       "      <th></th>\n",
       "      <th></th>\n",
       "      <th></th>\n",
       "      <th></th>\n",
       "    </tr>\n",
       "  </thead>\n",
       "  <tbody>\n",
       "    <tr>\n",
       "      <th>Dark Unknown Lighted</th>\n",
       "      <td>2</td>\n",
       "      <td>0</td>\n",
       "      <td>0</td>\n",
       "      <td>0</td>\n",
       "      <td>2</td>\n",
       "    </tr>\n",
       "    <tr>\n",
       "      <th>Dark- Lighted</th>\n",
       "      <td>110</td>\n",
       "      <td>19</td>\n",
       "      <td>3</td>\n",
       "      <td>0</td>\n",
       "      <td>132</td>\n",
       "    </tr>\n",
       "    <tr>\n",
       "      <th>Dark- Not Lighted</th>\n",
       "      <td>7</td>\n",
       "      <td>4</td>\n",
       "      <td>0</td>\n",
       "      <td>0</td>\n",
       "      <td>11</td>\n",
       "    </tr>\n",
       "    <tr>\n",
       "      <th>Dawn</th>\n",
       "      <td>6</td>\n",
       "      <td>1</td>\n",
       "      <td>0</td>\n",
       "      <td>0</td>\n",
       "      <td>7</td>\n",
       "    </tr>\n",
       "    <tr>\n",
       "      <th>Daylight</th>\n",
       "      <td>117</td>\n",
       "      <td>22</td>\n",
       "      <td>0</td>\n",
       "      <td>1</td>\n",
       "      <td>140</td>\n",
       "    </tr>\n",
       "    <tr>\n",
       "      <th>Dusk</th>\n",
       "      <td>1</td>\n",
       "      <td>1</td>\n",
       "      <td>0</td>\n",
       "      <td>0</td>\n",
       "      <td>2</td>\n",
       "    </tr>\n",
       "    <tr>\n",
       "      <th>Other</th>\n",
       "      <td>1</td>\n",
       "      <td>0</td>\n",
       "      <td>0</td>\n",
       "      <td>0</td>\n",
       "      <td>1</td>\n",
       "    </tr>\n",
       "    <tr>\n",
       "      <th>Unknown</th>\n",
       "      <td>2</td>\n",
       "      <td>0</td>\n",
       "      <td>0</td>\n",
       "      <td>0</td>\n",
       "      <td>2</td>\n",
       "    </tr>\n",
       "    <tr>\n",
       "      <th>null</th>\n",
       "      <td>9</td>\n",
       "      <td>1</td>\n",
       "      <td>0</td>\n",
       "      <td>0</td>\n",
       "      <td>10</td>\n",
       "    </tr>\n",
       "    <tr>\n",
       "      <th>All</th>\n",
       "      <td>255</td>\n",
       "      <td>48</td>\n",
       "      <td>3</td>\n",
       "      <td>1</td>\n",
       "      <td>307</td>\n",
       "    </tr>\n",
       "  </tbody>\n",
       "</table>\n",
       "</div>"
      ],
      "text/plain": [
       "FATALITIES            1.0  2.0  3.0  4.0  All\n",
       "LIGHTCONDITION                               \n",
       "Dark Unknown Lighted    2    0    0    0    2\n",
       "Dark- Lighted         110   19    3    0  132\n",
       "Dark- Not Lighted       7    4    0    0   11\n",
       "Dawn                    6    1    0    0    7\n",
       "Daylight              117   22    0    1  140\n",
       "Dusk                    1    1    0    0    2\n",
       "Other                   1    0    0    0    1\n",
       "Unknown                 2    0    0    0    2\n",
       "null                    9    1    0    0   10\n",
       "All                   255   48    3    1  307"
      ]
     },
     "execution_count": 164,
     "metadata": {},
     "output_type": "execute_result"
    }
   ],
   "source": [
    "pd.crosstab(data['LIGHTCONDITION'], data['FATALITIES'], margins=True)"
   ]
  },
  {
   "cell_type": "markdown",
   "metadata": {},
   "source": [
    "### Drinking and driving"
   ]
  },
  {
   "cell_type": "markdown",
   "metadata": {},
   "source": [
    "Looking at the values of `ISDRINKING`, we can exclude the variable in our analysis seeing as almost all the fatalities have no data provided for them in regards to drinking status. "
   ]
  },
  {
   "cell_type": "code",
   "execution_count": 165,
   "metadata": {},
   "outputs": [
    {
     "data": {
      "text/plain": [
       "<matplotlib.legend.Legend at 0x11ea68c18>"
      ]
     },
     "execution_count": 165,
     "metadata": {},
     "output_type": "execute_result"
    },
    {
     "data": {
      "image/png": "[encoded data removed]",
      "text/plain": [
       "<matplotlib.figure.Figure at 0x12b4b3240>"
      ]
     },
     "metadata": {},
     "output_type": "display_data"
    }
   ],
   "source": [
    "sns.countplot(y=\"ISDRINKING\", hue=\"FATALITIES\", data=data)\n",
    "plt.legend(bbox_to_anchor=(1.05, 1), loc=2, title=\"Fatalities\")"
   ]
  },
  {
   "cell_type": "code",
   "execution_count": 166,
   "metadata": {
    "scrolled": true
   },
   "outputs": [
    {
     "data": {
      "text/html": [
       "<div>\n",
       "<style>\n",
       "    .dataframe thead tr:only-child th {\n",
       "        text-align: right;\n",
       "    }\n",
       "\n",
       "    .dataframe thead th {\n",
       "        text-align: left;\n",
       "    }\n",
       "\n",
       "    .dataframe tbody tr th {\n",
       "        vertical-align: top;\n",
       "    }\n",
       "</style>\n",
       "<table border=\"1\" class=\"dataframe\">\n",
       "  <thead>\n",
       "    <tr style=\"text-align: right;\">\n",
       "      <th>FATALITIES</th>\n",
       "      <th>1.0</th>\n",
       "      <th>2.0</th>\n",
       "      <th>3.0</th>\n",
       "      <th>4.0</th>\n",
       "      <th>All</th>\n",
       "    </tr>\n",
       "    <tr>\n",
       "      <th>ISDRINKING</th>\n",
       "      <th></th>\n",
       "      <th></th>\n",
       "      <th></th>\n",
       "      <th></th>\n",
       "      <th></th>\n",
       "    </tr>\n",
       "  </thead>\n",
       "  <tbody>\n",
       "    <tr>\n",
       "      <th>No</th>\n",
       "      <td>3</td>\n",
       "      <td>0</td>\n",
       "      <td>0</td>\n",
       "      <td>0</td>\n",
       "      <td>3</td>\n",
       "    </tr>\n",
       "    <tr>\n",
       "      <th>No data provided</th>\n",
       "      <td>252</td>\n",
       "      <td>48</td>\n",
       "      <td>3</td>\n",
       "      <td>1</td>\n",
       "      <td>304</td>\n",
       "    </tr>\n",
       "    <tr>\n",
       "      <th>All</th>\n",
       "      <td>255</td>\n",
       "      <td>48</td>\n",
       "      <td>3</td>\n",
       "      <td>1</td>\n",
       "      <td>307</td>\n",
       "    </tr>\n",
       "  </tbody>\n",
       "</table>\n",
       "</div>"
      ],
      "text/plain": [
       "FATALITIES        1.0  2.0  3.0  4.0  All\n",
       "ISDRINKING                               \n",
       "No                  3    0    0    0    3\n",
       "No data provided  252   48    3    1  304\n",
       "All               255   48    3    1  307"
      ]
     },
     "execution_count": 166,
     "metadata": {},
     "output_type": "execute_result"
    }
   ],
   "source": [
    "pd.crosstab(data['ISDRINKING'], data['FATALITIES'], margins=True)"
   ]
  },
  {
   "cell_type": "markdown",
   "metadata": {},
   "source": [
    "### Intersection Type"
   ]
  },
  {
   "cell_type": "markdown",
   "metadata": {},
   "source": [
    "We should also exclude `INTERSECTIONTYPE` for similar reasons."
   ]
  },
  {
   "cell_type": "code",
   "execution_count": 167,
   "metadata": {},
   "outputs": [
    {
     "data": {
      "text/plain": [
       "<matplotlib.legend.Legend at 0x12ac041d0>"
      ]
     },
     "execution_count": 167,
     "metadata": {},
     "output_type": "execute_result"
    },
    {
     "data": {
      "image/png": "[encoded data removed]",
      "text/plain": [
       "<matplotlib.figure.Figure at 0x11fd9b438>"
      ]
     },
     "metadata": {},
     "output_type": "display_data"
    }
   ],
   "source": [
    "sns.countplot(y=\"INTERSECTIONTYPE\", hue=\"FATALITIES\", data=data)\n",
    "plt.legend(bbox_to_anchor=(1.05, 1), loc=2, title=\"Fatalities\")"
   ]
  },
  {
   "cell_type": "code",
   "execution_count": 168,
   "metadata": {
    "scrolled": true
   },
   "outputs": [
    {
     "data": {
      "text/html": [
       "<div>\n",
       "<style>\n",
       "    .dataframe thead tr:only-child th {\n",
       "        text-align: right;\n",
       "    }\n",
       "\n",
       "    .dataframe thead th {\n",
       "        text-align: left;\n",
       "    }\n",
       "\n",
       "    .dataframe tbody tr th {\n",
       "        vertical-align: top;\n",
       "    }\n",
       "</style>\n",
       "<table border=\"1\" class=\"dataframe\">\n",
       "  <thead>\n",
       "    <tr style=\"text-align: right;\">\n",
       "      <th>FATALITIES</th>\n",
       "      <th>1.0</th>\n",
       "      <th>2.0</th>\n",
       "      <th>3.0</th>\n",
       "      <th>4.0</th>\n",
       "      <th>All</th>\n",
       "    </tr>\n",
       "    <tr>\n",
       "      <th>INTERSECTIONTYPE</th>\n",
       "      <th></th>\n",
       "      <th></th>\n",
       "      <th></th>\n",
       "      <th></th>\n",
       "      <th></th>\n",
       "    </tr>\n",
       "  </thead>\n",
       "  <tbody>\n",
       "    <tr>\n",
       "      <th>Four-Way Intersection</th>\n",
       "      <td>1</td>\n",
       "      <td>0</td>\n",
       "      <td>0</td>\n",
       "      <td>0</td>\n",
       "      <td>1</td>\n",
       "    </tr>\n",
       "    <tr>\n",
       "      <th>Not an Intersection</th>\n",
       "      <td>4</td>\n",
       "      <td>0</td>\n",
       "      <td>0</td>\n",
       "      <td>0</td>\n",
       "      <td>4</td>\n",
       "    </tr>\n",
       "    <tr>\n",
       "      <th>T-Intersection</th>\n",
       "      <td>5</td>\n",
       "      <td>0</td>\n",
       "      <td>0</td>\n",
       "      <td>0</td>\n",
       "      <td>5</td>\n",
       "    </tr>\n",
       "    <tr>\n",
       "      <th>null</th>\n",
       "      <td>245</td>\n",
       "      <td>48</td>\n",
       "      <td>3</td>\n",
       "      <td>1</td>\n",
       "      <td>297</td>\n",
       "    </tr>\n",
       "    <tr>\n",
       "      <th>All</th>\n",
       "      <td>255</td>\n",
       "      <td>48</td>\n",
       "      <td>3</td>\n",
       "      <td>1</td>\n",
       "      <td>307</td>\n",
       "    </tr>\n",
       "  </tbody>\n",
       "</table>\n",
       "</div>"
      ],
      "text/plain": [
       "FATALITIES             1.0  2.0  3.0  4.0  All\n",
       "INTERSECTIONTYPE                              \n",
       "Four-Way Intersection    1    0    0    0    1\n",
       "Not an Intersection      4    0    0    0    4\n",
       "T-Intersection           5    0    0    0    5\n",
       "null                   245   48    3    1  297\n",
       "All                    255   48    3    1  307"
      ]
     },
     "execution_count": 168,
     "metadata": {},
     "output_type": "execute_result"
    }
   ],
   "source": [
    "pd.crosstab(data['INTERSECTIONTYPE'], data['FATALITIES'], margins=True)"
   ]
  },
  {
   "cell_type": "markdown",
   "metadata": {},
   "source": [
    "### Weather"
   ]
  },
  {
   "cell_type": "markdown",
   "metadata": {},
   "source": [
    "Most fatal crashes happened when weather was `Clear`. The next most frequent weather type is `Rain`, with 24 total fatalities."
   ]
  },
  {
   "cell_type": "code",
   "execution_count": 169,
   "metadata": {},
   "outputs": [
    {
     "data": {
      "text/plain": [
       "<matplotlib.legend.Legend at 0x12c2a8eb8>"
      ]
     },
     "execution_count": 169,
     "metadata": {},
     "output_type": "execute_result"
    },
    {
     "data": {
      "image/png": "[encoded data removed]",
      "text/plain": [
       "<matplotlib.figure.Figure at 0x12c2a8e10>"
      ]
     },
     "metadata": {},
     "output_type": "display_data"
    }
   ],
   "source": [
    "sns.countplot(y=\"WEATHER\", hue=\"FATALITIES\", data=data)\n",
    "plt.legend(bbox_to_anchor=(1.05, 1), loc=2, title=\"Fatalities\")"
   ]
  },
  {
   "cell_type": "code",
   "execution_count": 170,
   "metadata": {
    "scrolled": false
   },
   "outputs": [
    {
     "data": {
      "text/html": [
       "<div>\n",
       "<style>\n",
       "    .dataframe thead tr:only-child th {\n",
       "        text-align: right;\n",
       "    }\n",
       "\n",
       "    .dataframe thead th {\n",
       "        text-align: left;\n",
       "    }\n",
       "\n",
       "    .dataframe tbody tr th {\n",
       "        vertical-align: top;\n",
       "    }\n",
       "</style>\n",
       "<table border=\"1\" class=\"dataframe\">\n",
       "  <thead>\n",
       "    <tr style=\"text-align: right;\">\n",
       "      <th>FATALITIES</th>\n",
       "      <th>1.0</th>\n",
       "      <th>2.0</th>\n",
       "      <th>3.0</th>\n",
       "      <th>4.0</th>\n",
       "      <th>All</th>\n",
       "    </tr>\n",
       "    <tr>\n",
       "      <th>WEATHER</th>\n",
       "      <th></th>\n",
       "      <th></th>\n",
       "      <th></th>\n",
       "      <th></th>\n",
       "      <th></th>\n",
       "    </tr>\n",
       "  </thead>\n",
       "  <tbody>\n",
       "    <tr>\n",
       "      <th>Blowing Sand, Soil, Dirt</th>\n",
       "      <td>1</td>\n",
       "      <td>0</td>\n",
       "      <td>0</td>\n",
       "      <td>0</td>\n",
       "      <td>1</td>\n",
       "    </tr>\n",
       "    <tr>\n",
       "      <th>Clear</th>\n",
       "      <td>212</td>\n",
       "      <td>41</td>\n",
       "      <td>2</td>\n",
       "      <td>1</td>\n",
       "      <td>256</td>\n",
       "    </tr>\n",
       "    <tr>\n",
       "      <th>Cloudy</th>\n",
       "      <td>2</td>\n",
       "      <td>1</td>\n",
       "      <td>0</td>\n",
       "      <td>0</td>\n",
       "      <td>3</td>\n",
       "    </tr>\n",
       "    <tr>\n",
       "      <th>Fog, Smog, Smoke</th>\n",
       "      <td>6</td>\n",
       "      <td>0</td>\n",
       "      <td>0</td>\n",
       "      <td>0</td>\n",
       "      <td>6</td>\n",
       "    </tr>\n",
       "    <tr>\n",
       "      <th>Other</th>\n",
       "      <td>1</td>\n",
       "      <td>0</td>\n",
       "      <td>0</td>\n",
       "      <td>0</td>\n",
       "      <td>1</td>\n",
       "    </tr>\n",
       "    <tr>\n",
       "      <th>Rain</th>\n",
       "      <td>19</td>\n",
       "      <td>4</td>\n",
       "      <td>1</td>\n",
       "      <td>0</td>\n",
       "      <td>24</td>\n",
       "    </tr>\n",
       "    <tr>\n",
       "      <th>Severe Crosswinds</th>\n",
       "      <td>1</td>\n",
       "      <td>1</td>\n",
       "      <td>0</td>\n",
       "      <td>0</td>\n",
       "      <td>2</td>\n",
       "    </tr>\n",
       "    <tr>\n",
       "      <th>Snow</th>\n",
       "      <td>4</td>\n",
       "      <td>1</td>\n",
       "      <td>0</td>\n",
       "      <td>0</td>\n",
       "      <td>5</td>\n",
       "    </tr>\n",
       "    <tr>\n",
       "      <th>Unknown</th>\n",
       "      <td>2</td>\n",
       "      <td>0</td>\n",
       "      <td>0</td>\n",
       "      <td>0</td>\n",
       "      <td>2</td>\n",
       "    </tr>\n",
       "    <tr>\n",
       "      <th>null</th>\n",
       "      <td>7</td>\n",
       "      <td>0</td>\n",
       "      <td>0</td>\n",
       "      <td>0</td>\n",
       "      <td>7</td>\n",
       "    </tr>\n",
       "    <tr>\n",
       "      <th>All</th>\n",
       "      <td>255</td>\n",
       "      <td>48</td>\n",
       "      <td>3</td>\n",
       "      <td>1</td>\n",
       "      <td>307</td>\n",
       "    </tr>\n",
       "  </tbody>\n",
       "</table>\n",
       "</div>"
      ],
      "text/plain": [
       "FATALITIES                1.0  2.0  3.0  4.0  All\n",
       "WEATHER                                          \n",
       "Blowing Sand, Soil, Dirt    1    0    0    0    1\n",
       "Clear                     212   41    2    1  256\n",
       "Cloudy                      2    1    0    0    3\n",
       "Fog, Smog, Smoke            6    0    0    0    6\n",
       "Other                       1    0    0    0    1\n",
       "Rain                       19    4    1    0   24\n",
       "Severe Crosswinds           1    1    0    0    2\n",
       "Snow                        4    1    0    0    5\n",
       "Unknown                     2    0    0    0    2\n",
       "null                        7    0    0    0    7\n",
       "All                       255   48    3    1  307"
      ]
     },
     "execution_count": 170,
     "metadata": {},
     "output_type": "execute_result"
    }
   ],
   "source": [
    "pd.crosstab(data['WEATHER'], data['FATALITIES'], margins=True)"
   ]
  },
  {
   "cell_type": "markdown",
   "metadata": {},
   "source": [
    "# Data cleaning\n",
    "\n",
    "The fields for cyclists involved, pedestrians involved, minor injuries, major injuries, and fatalities have lots of `NaN` values. We'll assume that these are crashes where there were 0 cyclists or pedestrians invovled, or 0 injuries and fatalities. We'll replace all the `NaN` values in these fields with 0 so we can conduct our analysis. Then, we'll convert them to `int` values for simplification."
   ]
  },
  {
   "cell_type": "code",
   "execution_count": 171,
   "metadata": {
    "collapsed": true
   },
   "outputs": [],
   "source": [
    "#fill NaN data with 0 \n",
    "data.CYCLISTSINVOLVED.fillna(0, inplace=True)\n",
    "data.PEDESTRIANSINVOLVED.fillna(0, inplace=True)\n",
    "data.MINORINJURIES.fillna(0, inplace=True)\n",
    "data.MAJORINJURIES.fillna(0, inplace=True)\n",
    "data.FATALITIES.fillna(0, inplace=True)\n",
    "\n",
    "#convert floats to ints to simplify \n",
    "data.CYCLISTSINVOLVED = data.CYCLISTSINVOLVED.astype(int)\n",
    "data.PEDESTRIANSINVOLVED = data.PEDESTRIANSINVOLVED.astype(int)\n",
    "data.MINORINJURIES = data.MINORINJURIES.astype(int)\n",
    "data.MAJORINJURIES = data.MAJORINJURIES.astype(int)\n",
    "data.FATALITIES = data.FATALITIES.astype(int)"
   ]
  },
  {
   "cell_type": "markdown",
   "metadata": {},
   "source": [
    "## Dummification "
   ]
  },
  {
   "cell_type": "markdown",
   "metadata": {},
   "source": [
    "This dataset contains several categorical variables that we need to turn into dummy variables. "
   ]
  },
  {
   "cell_type": "markdown",
   "metadata": {},
   "source": [
    "### First Harmful Event Specifics"
   ]
  },
  {
   "cell_type": "code",
   "execution_count": 172,
   "metadata": {},
   "outputs": [
    {
     "data": {
      "text/html": [
       "<div>\n",
       "<style>\n",
       "    .dataframe thead tr:only-child th {\n",
       "        text-align: right;\n",
       "    }\n",
       "\n",
       "    .dataframe thead th {\n",
       "        text-align: left;\n",
       "    }\n",
       "\n",
       "    .dataframe tbody tr th {\n",
       "        vertical-align: top;\n",
       "    }\n",
       "</style>\n",
       "<table border=\"1\" class=\"dataframe\">\n",
       "  <thead>\n",
       "    <tr style=\"text-align: right;\">\n",
       "      <th></th>\n",
       "      <th>event_Animal</th>\n",
       "      <th>event_Bridge Overhead Structure</th>\n",
       "      <th>event_Bridge Pier Or Support</th>\n",
       "      <th>event_Bridge Rail</th>\n",
       "      <th>event_Cable Barrier</th>\n",
       "      <th>event_Cargo/Equipment Loss Or Shift</th>\n",
       "      <th>event_Commercial Vehicle</th>\n",
       "      <th>event_Concrete Traffic Barrier</th>\n",
       "      <th>event_Culvert</th>\n",
       "      <th>event_Curb</th>\n",
       "      <th>...</th>\n",
       "      <th>event_Pedestrian</th>\n",
       "      <th>event_Railway Vehicle (train, engine)</th>\n",
       "      <th>event_Struck By Falling, Shifting Cargo Or Anything Set In Motion By Motor Vehicle</th>\n",
       "      <th>event_Traffic Sign Support</th>\n",
       "      <th>event_Traffic Signal Support</th>\n",
       "      <th>event_Tree(standing)</th>\n",
       "      <th>event_Unknown</th>\n",
       "      <th>event_Utility Pole/light Support</th>\n",
       "      <th>event_Work Zone/maintenance Equipment</th>\n",
       "      <th>event_null</th>\n",
       "    </tr>\n",
       "  </thead>\n",
       "  <tbody>\n",
       "    <tr>\n",
       "      <th>0</th>\n",
       "      <td>0</td>\n",
       "      <td>0</td>\n",
       "      <td>0</td>\n",
       "      <td>0</td>\n",
       "      <td>0</td>\n",
       "      <td>0</td>\n",
       "      <td>0</td>\n",
       "      <td>0</td>\n",
       "      <td>0</td>\n",
       "      <td>0</td>\n",
       "      <td>...</td>\n",
       "      <td>0</td>\n",
       "      <td>0</td>\n",
       "      <td>0</td>\n",
       "      <td>0</td>\n",
       "      <td>0</td>\n",
       "      <td>0</td>\n",
       "      <td>0</td>\n",
       "      <td>0</td>\n",
       "      <td>0</td>\n",
       "      <td>0</td>\n",
       "    </tr>\n",
       "  </tbody>\n",
       "</table>\n",
       "<p>1 rows × 44 columns</p>\n",
       "</div>"
      ],
      "text/plain": [
       "   event_Animal  event_Bridge Overhead Structure  \\\n",
       "0             0                                0   \n",
       "\n",
       "   event_Bridge Pier Or Support  event_Bridge Rail  event_Cable Barrier  \\\n",
       "0                             0                  0                    0   \n",
       "\n",
       "   event_Cargo/Equipment Loss Or Shift  event_Commercial Vehicle  \\\n",
       "0                                    0                         0   \n",
       "\n",
       "   event_Concrete Traffic Barrier  event_Culvert  event_Curb     ...      \\\n",
       "0                               0              0           0     ...       \n",
       "\n",
       "   event_Pedestrian  event_Railway Vehicle (train, engine)  \\\n",
       "0                 0                                      0   \n",
       "\n",
       "   event_Struck By Falling, Shifting Cargo Or Anything Set In Motion By Motor Vehicle  \\\n",
       "0                                                  0                                    \n",
       "\n",
       "   event_Traffic Sign Support  event_Traffic Signal Support  \\\n",
       "0                           0                             0   \n",
       "\n",
       "   event_Tree(standing)  event_Unknown  event_Utility Pole/light Support  \\\n",
       "0                     0              0                                 0   \n",
       "\n",
       "   event_Work Zone/maintenance Equipment  event_null  \n",
       "0                                      0           0  \n",
       "\n",
       "[1 rows x 44 columns]"
      ]
     },
     "execution_count": 172,
     "metadata": {},
     "output_type": "execute_result"
    }
   ],
   "source": [
    "#create dummy variables for FIRSTHARMFULEVENTSPECIFICS\n",
    "event_dummies = pd.get_dummies(data.FIRSTHARMFULEVENTSPECIFICS, prefix='event')\n",
    "event_dummies.head(1)"
   ]
  },
  {
   "cell_type": "code",
   "execution_count": 173,
   "metadata": {
    "collapsed": true
   },
   "outputs": [],
   "source": [
    "#join the event dummy variables with the rest of the data, drop the first dummy \n",
    "data = data.join(event_dummies.loc[:, 'event_Bridge Overhead Structure':])"
   ]
  },
  {
   "cell_type": "markdown",
   "metadata": {},
   "source": [
    "### Light Condition"
   ]
  },
  {
   "cell_type": "code",
   "execution_count": 174,
   "metadata": {},
   "outputs": [
    {
     "data": {
      "text/html": [
       "<div>\n",
       "<style>\n",
       "    .dataframe thead tr:only-child th {\n",
       "        text-align: right;\n",
       "    }\n",
       "\n",
       "    .dataframe thead th {\n",
       "        text-align: left;\n",
       "    }\n",
       "\n",
       "    .dataframe tbody tr th {\n",
       "        vertical-align: top;\n",
       "    }\n",
       "</style>\n",
       "<table border=\"1\" class=\"dataframe\">\n",
       "  <thead>\n",
       "    <tr style=\"text-align: right;\">\n",
       "      <th></th>\n",
       "      <th>light_Dark Unknown Lighted</th>\n",
       "      <th>light_Dark- Lighted</th>\n",
       "      <th>light_Dark- Not Lighted</th>\n",
       "      <th>light_Dawn</th>\n",
       "      <th>light_Daylight</th>\n",
       "      <th>light_Dusk</th>\n",
       "      <th>light_Other</th>\n",
       "      <th>light_Unknown</th>\n",
       "      <th>light_null</th>\n",
       "    </tr>\n",
       "  </thead>\n",
       "  <tbody>\n",
       "    <tr>\n",
       "      <th>0</th>\n",
       "      <td>0</td>\n",
       "      <td>1</td>\n",
       "      <td>0</td>\n",
       "      <td>0</td>\n",
       "      <td>0</td>\n",
       "      <td>0</td>\n",
       "      <td>0</td>\n",
       "      <td>0</td>\n",
       "      <td>0</td>\n",
       "    </tr>\n",
       "  </tbody>\n",
       "</table>\n",
       "</div>"
      ],
      "text/plain": [
       "   light_Dark Unknown Lighted  light_Dark- Lighted  light_Dark- Not Lighted  \\\n",
       "0                           0                    1                        0   \n",
       "\n",
       "   light_Dawn  light_Daylight  light_Dusk  light_Other  light_Unknown  \\\n",
       "0           0               0           0            0              0   \n",
       "\n",
       "   light_null  \n",
       "0           0  "
      ]
     },
     "execution_count": 174,
     "metadata": {},
     "output_type": "execute_result"
    }
   ],
   "source": [
    "light_dummies = pd.get_dummies(data.LIGHTCONDITION, prefix='light')\n",
    "light_dummies.head(1)"
   ]
  },
  {
   "cell_type": "code",
   "execution_count": 175,
   "metadata": {
    "collapsed": true
   },
   "outputs": [],
   "source": [
    "data = data.join(light_dummies.loc[:, 'light_Dark- Lighted':])"
   ]
  },
  {
   "cell_type": "markdown",
   "metadata": {},
   "source": [
    "### Weather"
   ]
  },
  {
   "cell_type": "code",
   "execution_count": 176,
   "metadata": {
    "scrolled": true
   },
   "outputs": [
    {
     "data": {
      "text/html": [
       "<div>\n",
       "<style>\n",
       "    .dataframe thead tr:only-child th {\n",
       "        text-align: right;\n",
       "    }\n",
       "\n",
       "    .dataframe thead th {\n",
       "        text-align: left;\n",
       "    }\n",
       "\n",
       "    .dataframe tbody tr th {\n",
       "        vertical-align: top;\n",
       "    }\n",
       "</style>\n",
       "<table border=\"1\" class=\"dataframe\">\n",
       "  <thead>\n",
       "    <tr style=\"text-align: right;\">\n",
       "      <th></th>\n",
       "      <th>weather_Blowing Sand, Soil, Dirt</th>\n",
       "      <th>weather_Blowing Snow</th>\n",
       "      <th>weather_Clear</th>\n",
       "      <th>weather_Cloudy</th>\n",
       "      <th>weather_Fog, Smog, Smoke</th>\n",
       "      <th>weather_Freezing Rain Or Freezing Drizzle</th>\n",
       "      <th>weather_Mist</th>\n",
       "      <th>weather_Other</th>\n",
       "      <th>weather_Rain</th>\n",
       "      <th>weather_Severe Crosswinds</th>\n",
       "      <th>weather_Sleet Or Hail</th>\n",
       "      <th>weather_Snow</th>\n",
       "      <th>weather_Unknown</th>\n",
       "      <th>weather_null</th>\n",
       "    </tr>\n",
       "  </thead>\n",
       "  <tbody>\n",
       "    <tr>\n",
       "      <th>0</th>\n",
       "      <td>0</td>\n",
       "      <td>0</td>\n",
       "      <td>1</td>\n",
       "      <td>0</td>\n",
       "      <td>0</td>\n",
       "      <td>0</td>\n",
       "      <td>0</td>\n",
       "      <td>0</td>\n",
       "      <td>0</td>\n",
       "      <td>0</td>\n",
       "      <td>0</td>\n",
       "      <td>0</td>\n",
       "      <td>0</td>\n",
       "      <td>0</td>\n",
       "    </tr>\n",
       "  </tbody>\n",
       "</table>\n",
       "</div>"
      ],
      "text/plain": [
       "   weather_Blowing Sand, Soil, Dirt  weather_Blowing Snow  weather_Clear  \\\n",
       "0                                 0                     0              1   \n",
       "\n",
       "   weather_Cloudy  weather_Fog, Smog, Smoke  \\\n",
       "0               0                         0   \n",
       "\n",
       "   weather_Freezing Rain Or Freezing Drizzle  weather_Mist  weather_Other  \\\n",
       "0                                          0             0              0   \n",
       "\n",
       "   weather_Rain  weather_Severe Crosswinds  weather_Sleet Or Hail  \\\n",
       "0             0                          0                      0   \n",
       "\n",
       "   weather_Snow  weather_Unknown  weather_null  \n",
       "0             0                0             0  "
      ]
     },
     "execution_count": 176,
     "metadata": {},
     "output_type": "execute_result"
    }
   ],
   "source": [
    "weather_dummies = pd.get_dummies(data.WEATHER, prefix='weather')\n",
    "weather_dummies.head(1)"
   ]
  },
  {
   "cell_type": "code",
   "execution_count": 177,
   "metadata": {
    "collapsed": true
   },
   "outputs": [],
   "source": [
    "data = data.join(weather_dummies.loc[:, 'weather_Blowing Sand Soil, Dirt':])"
   ]
  },
  {
   "cell_type": "markdown",
   "metadata": {},
   "source": [
    "### Take a look at the resulting dataset and clean it up some more"
   ]
  },
  {
   "cell_type": "code",
   "execution_count": 178,
   "metadata": {
    "scrolled": true
   },
   "outputs": [
    {
     "data": {
      "text/html": [
       "<div>\n",
       "<style>\n",
       "    .dataframe thead tr:only-child th {\n",
       "        text-align: right;\n",
       "    }\n",
       "\n",
       "    .dataframe thead th {\n",
       "        text-align: left;\n",
       "    }\n",
       "\n",
       "    .dataframe tbody tr th {\n",
       "        vertical-align: top;\n",
       "    }\n",
       "</style>\n",
       "<table border=\"1\" class=\"dataframe\">\n",
       "  <thead>\n",
       "    <tr style=\"text-align: right;\">\n",
       "      <th></th>\n",
       "      <th>INTERSECTIONTYPE</th>\n",
       "      <th>ISWORKZONERELATED</th>\n",
       "      <th>FIRSTHARMFULEVENTSPECIFICS</th>\n",
       "      <th>LIGHTCONDITION</th>\n",
       "      <th>WEATHER</th>\n",
       "      <th>ISDRINKING</th>\n",
       "      <th>CYCLISTSINVOLVED</th>\n",
       "      <th>PEDESTRIANSINVOLVED</th>\n",
       "      <th>MINORINJURIES</th>\n",
       "      <th>MAJORINJURIES</th>\n",
       "      <th>...</th>\n",
       "      <th>weather_Fog, Smog, Smoke</th>\n",
       "      <th>weather_Freezing Rain Or Freezing Drizzle</th>\n",
       "      <th>weather_Mist</th>\n",
       "      <th>weather_Other</th>\n",
       "      <th>weather_Rain</th>\n",
       "      <th>weather_Severe Crosswinds</th>\n",
       "      <th>weather_Sleet Or Hail</th>\n",
       "      <th>weather_Snow</th>\n",
       "      <th>weather_Unknown</th>\n",
       "      <th>weather_null</th>\n",
       "    </tr>\n",
       "  </thead>\n",
       "  <tbody>\n",
       "    <tr>\n",
       "      <th>0</th>\n",
       "      <td>null</td>\n",
       "      <td>0</td>\n",
       "      <td>Parked Motor Vehicle</td>\n",
       "      <td>Dark- Lighted</td>\n",
       "      <td>Clear</td>\n",
       "      <td>No data provided</td>\n",
       "      <td>0</td>\n",
       "      <td>0</td>\n",
       "      <td>0</td>\n",
       "      <td>0</td>\n",
       "      <td>...</td>\n",
       "      <td>0</td>\n",
       "      <td>0</td>\n",
       "      <td>0</td>\n",
       "      <td>0</td>\n",
       "      <td>0</td>\n",
       "      <td>0</td>\n",
       "      <td>0</td>\n",
       "      <td>0</td>\n",
       "      <td>0</td>\n",
       "      <td>0</td>\n",
       "    </tr>\n",
       "  </tbody>\n",
       "</table>\n",
       "<p>1 rows × 78 columns</p>\n",
       "</div>"
      ],
      "text/plain": [
       "  INTERSECTIONTYPE  ISWORKZONERELATED FIRSTHARMFULEVENTSPECIFICS  \\\n",
       "0             null                  0       Parked Motor Vehicle   \n",
       "\n",
       "  LIGHTCONDITION WEATHER        ISDRINKING  CYCLISTSINVOLVED  \\\n",
       "0  Dark- Lighted   Clear  No data provided                 0   \n",
       "\n",
       "   PEDESTRIANSINVOLVED  MINORINJURIES  MAJORINJURIES      ...       \\\n",
       "0                    0              0              0      ...        \n",
       "\n",
       "   weather_Fog, Smog, Smoke  weather_Freezing Rain Or Freezing Drizzle  \\\n",
       "0                         0                                          0   \n",
       "\n",
       "   weather_Mist  weather_Other  weather_Rain  weather_Severe Crosswinds  \\\n",
       "0             0              0             0                          0   \n",
       "\n",
       "   weather_Sleet Or Hail  weather_Snow  weather_Unknown  weather_null  \n",
       "0                      0             0                0             0  \n",
       "\n",
       "[1 rows x 78 columns]"
      ]
     },
     "execution_count": 178,
     "metadata": {},
     "output_type": "execute_result"
    }
   ],
   "source": [
    "data.head(1)"
   ]
  },
  {
   "cell_type": "code",
   "execution_count": 179,
   "metadata": {
    "scrolled": true
   },
   "outputs": [
    {
     "data": {
      "text/plain": [
       "Index(['INTERSECTIONTYPE', 'ISWORKZONERELATED', 'FIRSTHARMFULEVENTSPECIFICS',\n",
       "       'LIGHTCONDITION', 'WEATHER', 'ISDRINKING', 'CYCLISTSINVOLVED',\n",
       "       'PEDESTRIANSINVOLVED', 'MINORINJURIES', 'MAJORINJURIES', 'FATALITIES',\n",
       "       'XCOORD', 'YCOORD', 'event_Bridge Overhead Structure',\n",
       "       'event_Bridge Pier Or Support', 'event_Bridge Rail',\n",
       "       'event_Cable Barrier', 'event_Cargo/Equipment Loss Or Shift',\n",
       "       'event_Commercial Vehicle', 'event_Concrete Traffic Barrier',\n",
       "       'event_Culvert', 'event_Curb', 'event_D.C. Property', 'event_Ditch',\n",
       "       'event_Embankment', 'event_Fatality',\n",
       "       'event_Fell/Jumped From Motor Vehicle', 'event_Fence',\n",
       "       'event_Fire/Explosion', 'event_Guardrail End', 'event_Guardrail Face',\n",
       "       'event_Hit and Run', 'event_Impact Attenuator/Crash Cushion',\n",
       "       'event_Injury', 'event_Jackknife', 'event_Mailbox',\n",
       "       'event_Motor Vehicle In Transport',\n",
       "       'event_Other Fixed Object (Wall, Building, Tunnel, Etc.)',\n",
       "       'event_Other Non-collision', 'event_Other Non-fixed Object',\n",
       "       'event_Other Post, Pole Or Support', 'event_Other Property Damage',\n",
       "       'event_Other Traffic Barrier', 'event_Overturn/Rollover',\n",
       "       'event_Parked Motor Vehicle', 'event_Pedalcycle', 'event_Pedestrian',\n",
       "       'event_Railway Vehicle (train, engine)',\n",
       "       'event_Struck By Falling, Shifting Cargo Or Anything Set In Motion By Motor Vehicle',\n",
       "       'event_Traffic Sign Support', 'event_Traffic Signal Support',\n",
       "       'event_Tree(standing)', 'event_Unknown',\n",
       "       'event_Utility Pole/light Support',\n",
       "       'event_Work Zone/maintenance Equipment', 'event_null',\n",
       "       'light_Dark- Lighted', 'light_Dark- Not Lighted', 'light_Dawn',\n",
       "       'light_Daylight', 'light_Dusk', 'light_Other', 'light_Unknown',\n",
       "       'light_null', 'weather_Blowing Sand, Soil, Dirt',\n",
       "       'weather_Blowing Snow', 'weather_Clear', 'weather_Cloudy',\n",
       "       'weather_Fog, Smog, Smoke', 'weather_Freezing Rain Or Freezing Drizzle',\n",
       "       'weather_Mist', 'weather_Other', 'weather_Rain',\n",
       "       'weather_Severe Crosswinds', 'weather_Sleet Or Hail', 'weather_Snow',\n",
       "       'weather_Unknown', 'weather_null'],\n",
       "      dtype='object')"
      ]
     },
     "execution_count": 179,
     "metadata": {},
     "output_type": "execute_result"
    }
   ],
   "source": [
    "data.columns"
   ]
  },
  {
   "cell_type": "code",
   "execution_count": 180,
   "metadata": {
    "collapsed": true
   },
   "outputs": [],
   "source": [
    "#drop data that is null or unknown, drop non-dummied variables\n",
    "data = data.drop(['FIRSTHARMFULEVENTSPECIFICS', 'ISDRINKING', 'INTERSECTIONTYPE', 'WEATHER', 'LIGHTCONDITION', 'event_Unknown', 'event_null', 'light_null', 'weather_null', 'weather_Other', 'weather_Unknown'], 1)"
   ]
  },
  {
   "cell_type": "markdown",
   "metadata": {},
   "source": [
    "# Viewing correlation matrix"
   ]
  },
  {
   "cell_type": "markdown",
   "metadata": {},
   "source": [
    "We're creating a heatmap of the entire dataset - the redder the squares, the higher the correlation between two fields. The bluer the squares, the lower the correlation between two fields. "
   ]
  },
  {
   "cell_type": "code",
   "execution_count": 181,
   "metadata": {},
   "outputs": [
    {
     "data": {
      "text/plain": [
       "<matplotlib.axes._subplots.AxesSubplot at 0x1309f7f98>"
      ]
     },
     "execution_count": 181,
     "metadata": {},
     "output_type": "execute_result"
    },
    {
     "data": {
      "image/png": "[encoded data removed]",
      "text/plain": [
       "<matplotlib.figure.Figure at 0x12fadff60>"
      ]
     },
     "metadata": {},
     "output_type": "display_data"
    }
   ],
   "source": [
    "#set font scale to see all labels\n",
    "sns.set(font_scale=0.4)\n",
    "#create correlation matrix \n",
    "corr = data.corr()\n",
    "#create heatmap of the correlation matrix\n",
    "sns.heatmap(corr)"
   ]
  },
  {
   "cell_type": "markdown",
   "metadata": {},
   "source": [
    "From the heatmap we can see that `event_Pedalcycle` and `PEDESTRIANSINVOLVED`, and `event_Pedestrian` and `PEDESTRIANSINVOLVED` have higher correlations, which makes sense. We can also see that `event_Motor Vehicle in Transport` has a lower correlation with `event_Hit and Run` and `event_Parked Motore Vehicle`.  `weather_Rain` and `weather_Clear` have a low correlation as well. "
   ]
  },
  {
   "cell_type": "markdown",
   "metadata": {},
   "source": [
    "## Calculate corelation coefficients"
   ]
  },
  {
   "cell_type": "code",
   "execution_count": 182,
   "metadata": {
    "scrolled": true
   },
   "outputs": [
    {
     "data": {
      "text/plain": [
       "0    152437\n",
       "1       307\n",
       "Name: FATALITIES, dtype: int64"
      ]
     },
     "execution_count": 182,
     "metadata": {},
     "output_type": "execute_result"
    }
   ],
   "source": [
    "#turn FATALITIES into a categorical variable, where 0 = no fatalities and 1 = at least one fatality\n",
    "def fatal (row):\n",
    "    if row['FATALITIES'] == 0:\n",
    "        return 0\n",
    "    else:\n",
    "        return 1\n",
    "    \n",
    "data['FATALITIES'] = data.apply(fatal, axis=1)\n",
    "data.FATALITIES.value_counts()"
   ]
  },
  {
   "cell_type": "code",
   "execution_count": 183,
   "metadata": {},
   "outputs": [
    {
     "data": {
      "text/plain": [
       "[ISWORKZONERELATED                                                                     0.002438\n",
       " CYCLISTSINVOLVED                                                                      0.011285\n",
       " PEDESTRIANSINVOLVED                                                                   0.000166\n",
       " MINORINJURIES                                                                         0.003319\n",
       " MAJORINJURIES                                                                        -0.005411\n",
       " event_Bridge Overhead Structure                                                      -0.000281\n",
       " event_Bridge Pier Or Support                                                         -0.000325\n",
       " event_Bridge Rail                                                                    -0.000445\n",
       " event_Cable Barrier                                                                  -0.000199\n",
       " event_Cargo/Equipment Loss Or Shift                                                   0.008561\n",
       " event_Commercial Vehicle                                                             -0.001511\n",
       " event_Concrete Traffic Barrier                                                        0.003828\n",
       " event_Culvert                                                                        -0.000199\n",
       " event_Curb                                                                           -0.001559\n",
       " event_D.C. Property                                                                   0.004636\n",
       " event_Ditch                                                                          -0.000325\n",
       " event_Embankment                                                                     -0.000304\n",
       " event_Fatality                                                                       -0.000199\n",
       " event_Fell/Jumped From Motor Vehicle                                                 -0.000526\n",
       " event_Fence                                                                          -0.001221\n",
       " event_Fire/Explosion                                                                 -0.000344\n",
       " event_Guardrail End                                                                  -0.000514\n",
       " event_Guardrail Face                                                                 -0.000762\n",
       " event_Hit and Run                                                                    -0.012462\n",
       " event_Impact Attenuator/Crash Cushion                                                -0.000473\n",
       " event_Injury                                                                         -0.002241\n",
       " event_Jackknife                                                                      -0.000257\n",
       " event_Mailbox                                                                        -0.000162\n",
       " event_Motor Vehicle In Transport                                                     -0.011711\n",
       " event_Other Fixed Object (Wall, Building, Tunnel, Etc.)                               0.012397\n",
       " event_Other Non-collision                                                             0.009078\n",
       " event_Other Non-fixed Object                                                          0.000740\n",
       " event_Other Post, Pole Or Support                                                    -0.001584\n",
       " event_Other Property Damage                                                          -0.000774\n",
       " event_Other Traffic Barrier                                                           0.009740\n",
       " event_Overturn/Rollover                                                              -0.001264\n",
       " event_Parked Motor Vehicle                                                           -0.006159\n",
       " event_Pedalcycle                                                                     -0.001550\n",
       " event_Pedestrian                                                                      0.034410\n",
       " event_Railway Vehicle (train, engine)                                                -0.000551\n",
       " event_Struck By Falling, Shifting Cargo Or Anything Set In Motion By Motor Vehicle   -0.000344\n",
       " event_Traffic Sign Support                                                           -0.000618\n",
       " event_Traffic Signal Support                                                         -0.000897\n",
       " event_Tree(standing)                                                                 -0.001274\n",
       " event_Utility Pole/light Support                                                     -0.001194\n",
       " event_Work Zone/maintenance Equipment                                                -0.000968\n",
       " light_Dark- Lighted                                                                   0.013715\n",
       " light_Dark- Not Lighted                                                               0.008957\n",
       " light_Dawn                                                                            0.007142\n",
       " light_Daylight                                                                       -0.014567\n",
       " light_Dusk                                                                           -0.003688\n",
       " light_Other                                                                           0.000783\n",
       " light_Unknown                                                                        -0.005222\n",
       " weather_Blowing Sand, Soil, Dirt                                                      0.005271\n",
       " weather_Blowing Snow                                                                 -0.000762\n",
       " weather_Clear                                                                         0.006822\n",
       " weather_Cloudy                                                                       -0.000293\n",
       " weather_Fog, Smog, Smoke                                                              0.005199\n",
       " weather_Freezing Rain Or Freezing Drizzle                                            -0.000981\n",
       " weather_Mist                                                                         -0.002178\n",
       " weather_Rain                                                                         -0.003720\n",
       " weather_Severe Crosswinds                                                             0.003303\n",
       " weather_Sleet Or Hail                                                                -0.001689\n",
       " weather_Snow                                                                          0.000575\n",
       " dtype: float64]"
      ]
     },
     "execution_count": 183,
     "metadata": {},
     "output_type": "execute_result"
    }
   ],
   "source": [
    "#reorder the dataset - put XCOORD, YCOORD, and FATALITIES at the beginning of the dataframe \n",
    "XCOORD = data.XCOORD\n",
    "YCOORD = data.YCOORD\n",
    "FATALITIES = data.FATALITIES \n",
    "data.drop(labels=['XCOORD', 'YCOORD', 'FATALITIES'], axis=1, inplace=True)\n",
    "\n",
    "data.insert(0, 'FATALITIES', FATALITIES)\n",
    "data.insert(0, 'YCOORD', YCOORD)\n",
    "data.insert(0, 'XCOORD', XCOORD)\n",
    "\n",
    "#calculate correlation between all variables (except the coordinates) and FATALITIES \n",
    "fatalities_corrs = [data[data.columns[3:]].apply(lambda x: x.corr(data['FATALITIES']))]\n",
    "pd.set_option('max_rows', 100)\n",
    "fatalities_corrs"
   ]
  },
  {
   "cell_type": "markdown",
   "metadata": {},
   "source": [
    "From the above list, we can see that the calculated correlations between all variables and `FATALITIES` is very slight, with the only correlation being outside of -0.016 and 0.016 is `event_Pedestrian`, at 0.034. We might not have the right data for this analysis, but let's carry on."
   ]
  },
  {
   "cell_type": "markdown",
   "metadata": {
    "collapsed": true
   },
   "source": [
    "# Creating a model "
   ]
  },
  {
   "cell_type": "markdown",
   "metadata": {},
   "source": [
    "To analyse the greatest predictors of fatal crashes, we'll create a logistic regression model. Our independent variables have been reduced to only include fields that had at least one occurence of a fatal crash, which have been detailed in the crosstab tables above. First, we split the data into train and test datasets."
   ]
  },
  {
   "cell_type": "code",
   "execution_count": 184,
   "metadata": {
    "collapsed": true
   },
   "outputs": [],
   "source": [
    "import sklearn.linear_model as lm\n",
    "from sklearn.cross_validation import train_test_split\n",
    "\n",
    "model = lm.LogisticRegression()\n",
    "features = ['FATALITIES', 'CYCLISTSINVOLVED', 'MAJORINJURIES', 'event_Cargo/Equipment Loss Or Shift', 'event_Hit and Run', 'event_Motor Vehicle In Transport', 'event_Other Non-collision', 'event_Other Traffic Barrier', 'event_Parked Motor Vehicle', 'event_Pedestrian', 'light_Daylight', 'light_Dusk', 'weather_Blowing Sand, Soil, Dirt', 'weather_Clear', 'weather_Cloudy', 'weather_Fog, Smog, Smoke', 'weather_Rain', 'weather_Severe Crosswinds', 'weather_Snow']"
   ]
  },
  {
   "cell_type": "code",
   "execution_count": 185,
   "metadata": {},
   "outputs": [
    {
     "data": {
      "text/plain": [
       "LogisticRegression(C=1.0, class_weight=None, dual=False, fit_intercept=True,\n",
       "          intercept_scaling=1, max_iter=100, multi_class='ovr', n_jobs=1,\n",
       "          penalty='l2', random_state=None, solver='liblinear', tol=0.0001,\n",
       "          verbose=0, warm_start=False)"
      ]
     },
     "execution_count": 185,
     "metadata": {},
     "output_type": "execute_result"
    }
   ],
   "source": [
    "#split into training data\n",
    "train_data, test_data = train_test_split(data, test_size = 0.4)\n",
    "#use features list to train the data, with FATALITIES as target var\n",
    "model.fit(train_data[features[1:]], train_data['FATALITIES'])"
   ]
  },
  {
   "cell_type": "markdown",
   "metadata": {},
   "source": [
    "### Generate probability matrix"
   ]
  },
  {
   "cell_type": "markdown",
   "metadata": {},
   "source": [
    "Now, we create a probability matrix. This adds a column, `probability`, and populates it with the probability of whether that particular crash will be fatal."
   ]
  },
  {
   "cell_type": "code",
   "execution_count": 186,
   "metadata": {
    "scrolled": false
   },
   "outputs": [
    {
     "name": "stderr",
     "output_type": "stream",
     "text": [
      "/Users/cour7816/anaconda3/lib/python3.6/site-packages/ipykernel_launcher.py:2: SettingWithCopyWarning: \n",
      "A value is trying to be set on a copy of a slice from a DataFrame.\n",
      "Try using .loc[row_indexer,col_indexer] = value instead\n",
      "\n",
      "See the caveats in the documentation: http://pandas.pydata.org/pandas-docs/stable/indexing.html#indexing-view-versus-copy\n",
      "  \n"
     ]
    }
   ],
   "source": [
    "#generate probability matrix\n",
    "test_data['probability'] = model.predict_proba(test_data[features[1:]]).T[1]"
   ]
  },
  {
   "cell_type": "code",
   "execution_count": 187,
   "metadata": {
    "collapsed": true
   },
   "outputs": [],
   "source": [
    "features += ['probability']"
   ]
  },
  {
   "cell_type": "markdown",
   "metadata": {},
   "source": [
    "# Visualize probability of different features"
   ]
  },
  {
   "cell_type": "markdown",
   "metadata": {},
   "source": [
    "The following plots visualize the probability of different features being fatal. We can see that none of them shed much insight on whether a crash is going to be fatal or not."
   ]
  },
  {
   "cell_type": "code",
   "execution_count": 189,
   "metadata": {},
   "outputs": [
    {
     "data": {
      "text/plain": [
       "<matplotlib.axes._subplots.AxesSubplot at 0x128d05240>"
      ]
     },
     "execution_count": 189,
     "metadata": {},
     "output_type": "execute_result"
    },
    {
     "data": {
      "image/png": "[encoded data removed]",
      "text/plain": [
       "<matplotlib.figure.Figure at 0x132925518>"
      ]
     },
     "metadata": {},
     "output_type": "display_data"
    }
   ],
   "source": [
    "sns.set(font_scale=1)\n",
    "ax = plt.subplot()\n",
    "\n",
    "test_data.plot(x='MAJORINJURIES', y='probability', kind='scatter', ax=ax)"
   ]
  },
  {
   "cell_type": "code",
   "execution_count": 190,
   "metadata": {},
   "outputs": [
    {
     "data": {
      "text/plain": [
       "<matplotlib.axes._subplots.AxesSubplot at 0x12e076f60>"
      ]
     },
     "execution_count": 190,
     "metadata": {},
     "output_type": "execute_result"
    },
    {
     "data": {
      "image/png": "[encoded data removed]",
      "text/plain": [
       "<matplotlib.figure.Figure at 0x130a6c358>"
      ]
     },
     "metadata": {},
     "output_type": "display_data"
    }
   ],
   "source": [
    "sns.set(font_scale=1)\n",
    "ax = plt.subplot()\n",
    "\n",
    "test_data.plot(x='MINORINJURIES', y='probability', kind='scatter', ax=ax)"
   ]
  },
  {
   "cell_type": "code",
   "execution_count": 191,
   "metadata": {
    "scrolled": false
   },
   "outputs": [
    {
     "data": {
      "text/plain": [
       "<matplotlib.axes._subplots.AxesSubplot at 0x12af77128>"
      ]
     },
     "execution_count": 191,
     "metadata": {},
     "output_type": "execute_result"
    },
    {
     "data": {
      "image/png": "[encoded data removed]",
      "text/plain": [
       "<matplotlib.figure.Figure at 0x12c970588>"
      ]
     },
     "metadata": {},
     "output_type": "display_data"
    }
   ],
   "source": [
    "ax = plt.subplot(111)\n",
    "\n",
    "test_data.plot(x='CYCLISTSINVOLVED', y='probability', kind='scatter', ax=ax)"
   ]
  },
  {
   "cell_type": "code",
   "execution_count": 192,
   "metadata": {
    "scrolled": true
   },
   "outputs": [
    {
     "data": {
      "text/plain": [
       "<matplotlib.axes._subplots.AxesSubplot at 0x12c936550>"
      ]
     },
     "execution_count": 192,
     "metadata": {},
     "output_type": "execute_result"
    },
    {
     "data": {
      "image/png": "[encoded data removed]",
      "text/plain": [
       "<matplotlib.figure.Figure at 0x128b1d518>"
      ]
     },
     "metadata": {},
     "output_type": "display_data"
    }
   ],
   "source": [
    "ax = plt.subplot(111)\n",
    "\n",
    "test_data.plot(x='PEDESTRIANSINVOLVED', y='probability', kind='scatter', ax=ax)"
   ]
  },
  {
   "cell_type": "code",
   "execution_count": 193,
   "metadata": {
    "scrolled": true
   },
   "outputs": [
    {
     "data": {
      "text/plain": [
       "<matplotlib.axes._subplots.AxesSubplot at 0x121028400>"
      ]
     },
     "execution_count": 193,
     "metadata": {},
     "output_type": "execute_result"
    },
    {
     "data": {
      "image/png": "[encoded data removed]",
      "text/plain": [
       "<matplotlib.figure.Figure at 0x12aef6780>"
      ]
     },
     "metadata": {},
     "output_type": "display_data"
    }
   ],
   "source": [
    "ax = plt.subplot(111)\n",
    "\n",
    "test_data.plot(x='event_Cargo/Equipment Loss Or Shift', y='probability', kind='scatter', ax=ax)"
   ]
  },
  {
   "cell_type": "code",
   "execution_count": 194,
   "metadata": {
    "scrolled": true
   },
   "outputs": [
    {
     "data": {
      "text/plain": [
       "<matplotlib.axes._subplots.AxesSubplot at 0x12105df60>"
      ]
     },
     "execution_count": 194,
     "metadata": {},
     "output_type": "execute_result"
    },
    {
     "data": {
      "image/png": "[encoded data removed]",
      "text/plain": [
       "<matplotlib.figure.Figure at 0x12106af28>"
      ]
     },
     "metadata": {},
     "output_type": "display_data"
    }
   ],
   "source": [
    "ax = plt.subplot(111)\n",
    "\n",
    "test_data.plot(x='weather_Blowing Sand, Soil, Dirt', y='probability', kind='scatter', ax=ax)"
   ]
  },
  {
   "cell_type": "markdown",
   "metadata": {},
   "source": [
    "# Visualize performance against baseline"
   ]
  },
  {
   "cell_type": "markdown",
   "metadata": {},
   "source": [
    "Now, we'll visualize the AUC and calculate the ROC. Our ROC score is 0.70, which is fair. There is definitely room for improvement."
   ]
  },
  {
   "cell_type": "code",
   "execution_count": 195,
   "metadata": {
    "collapsed": true
   },
   "outputs": [],
   "source": [
    "from sklearn import dummy, metrics "
   ]
  },
  {
   "cell_type": "code",
   "execution_count": 196,
   "metadata": {
    "scrolled": false
   },
   "outputs": [
    {
     "name": "stderr",
     "output_type": "stream",
     "text": [
      "/Users/cour7816/anaconda3/lib/python3.6/site-packages/ipykernel_launcher.py:4: SettingWithCopyWarning: \n",
      "A value is trying to be set on a copy of a slice from a DataFrame.\n",
      "Try using .loc[row_indexer,col_indexer] = value instead\n",
      "\n",
      "See the caveats in the documentation: http://pandas.pydata.org/pandas-docs/stable/indexing.html#indexing-view-versus-copy\n",
      "  after removing the cwd from sys.path.\n",
      "/Users/cour7816/anaconda3/lib/python3.6/site-packages/ipykernel_launcher.py:8: SettingWithCopyWarning: \n",
      "A value is trying to be set on a copy of a slice from a DataFrame.\n",
      "Try using .loc[row_indexer,col_indexer] = value instead\n",
      "\n",
      "See the caveats in the documentation: http://pandas.pydata.org/pandas-docs/stable/indexing.html#indexing-view-versus-copy\n",
      "  \n"
     ]
    }
   ],
   "source": [
    "del features[-1]\n",
    "model0 = dummy.DummyClassifier()\n",
    "model0.fit(train_data[features[1:]], train_data['FATALITIES'])\n",
    "test_data['probability_0'] = model0.predict_proba(test_data[features[1:]]).T[1]\n",
    "\n",
    "model1 = lm.LogisticRegression()\n",
    "model.fit(train_data[features[1:]], train_data['FATALITIES'])\n",
    "test_data['probability_1'] = model.predict_proba(test_data[features[1:]]).T[1]\n",
    "                                                                  \n",
    "                                            "
   ]
  },
  {
   "cell_type": "code",
   "execution_count": 197,
   "metadata": {
    "scrolled": true
   },
   "outputs": [
    {
     "data": {
      "image/png": "[encoded data removed]",
      "text/plain": [
       "<matplotlib.figure.Figure at 0x12cc939e8>"
      ]
     },
     "metadata": {},
     "output_type": "display_data"
    }
   ],
   "source": [
    "ax = plt.subplot(111)\n",
    "vals = metrics.roc_curve(test_data.FATALITIES, test_data.probability_0)\n",
    "ax.plot(vals[0], vals[1], label='prob0')\n",
    "vals = metrics.roc_curve(test_data.FATALITIES, test_data.probability_1)\n",
    "ax.plot(vals[0], vals[1], label='prob1')\n",
    "\n",
    "ax.set(title='Area Under the Curve for prediction fatal=1', ylabel='', xlabel='')\n",
    "legend = ax.legend(loc='upper center')"
   ]
  },
  {
   "cell_type": "code",
   "execution_count": 202,
   "metadata": {
    "scrolled": true
   },
   "outputs": [
    {
     "data": {
      "text/plain": [
       "0.69885010695926308"
      ]
     },
     "execution_count": 202,
     "metadata": {},
     "output_type": "execute_result"
    }
   ],
   "source": [
    "metrics.roc_auc_score(test_data.FATALITIES, test_data.probability_1)"
   ]
  },
  {
   "cell_type": "markdown",
   "metadata": {},
   "source": [
    "# Next Steps"
   ]
  },
  {
   "cell_type": "markdown",
   "metadata": {},
   "source": [
    "From the weak correlations, probabilities, and area under the ROC curve score, it is clear that we can't make any solid conclusions from this analysis and there is room for improvement. Other data that could augment this study include, but are not limited to:\n",
    "* traffic data\n",
    "* location (x and y coordinates) \n",
    "* age of driver\n",
    "* type of vehicle \n",
    "\n",
    "With more data, we could see an improved analysis and come to a supported conclusion as to what factors contribute the most to fatal car crashes. "
   ]
  },
  {
   "cell_type": "code",
   "execution_count": null,
   "metadata": {
    "collapsed": true
   },
   "outputs": [],
   "source": []
  }
 ],
 "metadata": {
  "anaconda-cloud": {},
  "kernelspec": {
   "display_name": "Python 3",
   "language": "python",
   "name": "python3"
  },
  "language_info": {
   "codemirror_mode": {
    "name": "ipython",
    "version": 3
   },
   "file_extension": ".py",
   "mimetype": "text/x-python",
   "name": "python",
   "nbconvert_exporter": "python",
   "pygments_lexer": "ipython3",
   "version": "3.6.1"
  }
 },
 "nbformat": 4,
 "nbformat_minor": 1
}
