{
 "cells": [
  {
   "cell_type": "markdown",
   "metadata": {},
   "source": [
    "# Project 2\n",
    "\n",
    "In this project, you will implement the exploratory analysis plan developed in Project 1. This will lay the groundwork for our our first modeling exercise in Project 3."
   ]
  },
  {
   "cell_type": "markdown",
   "metadata": {},
   "source": [
    "### Step 1: Load the python libraries you will need for this project "
   ]
  },
  {
   "cell_type": "code",
   "execution_count": 4,
   "metadata": {
    "collapsed": false
   },
   "outputs": [
    {
     "name": "stderr",
     "output_type": "stream",
     "text": [
      "/Users/cour7816/anaconda2/lib/python2.7/site-packages/matplotlib/font_manager.py:273: UserWarning: Matplotlib is building the font cache using fc-list. This may take a moment.\n",
      "  warnings.warn('Matplotlib is building the font cache using fc-list. This may take a moment.')\n"
     ]
    }
   ],
   "source": [
    "#imports\n",
    "from __future__ import division\n",
    "import pandas as pd\n",
    "import numpy as np\n",
    "import matplotlib.pyplot as plt\n",
    "import statsmodels.api as sm\n",
    "import pylab as pl\n",
    "import numpy as np\n",
    "import scipy as sp\n",
    "%matplotlib inline"
   ]
  },
  {
   "cell_type": "markdown",
   "metadata": {},
   "source": [
    "### Step 2: Read in your data set "
   ]
  },
  {
   "cell_type": "code",
   "execution_count": 5,
   "metadata": {
    "collapsed": false,
    "scrolled": true
   },
   "outputs": [
    {
     "name": "stdout",
     "output_type": "stream",
     "text": [
      "   admit    gre   gpa  prestige\n",
      "0      0  380.0  3.61       3.0\n",
      "1      1  660.0  3.67       3.0\n",
      "2      1  800.0  4.00       1.0\n",
      "3      1  640.0  3.19       4.0\n",
      "4      0  520.0  2.93       4.0\n"
     ]
    }
   ],
   "source": [
    "#Read in data from source \n",
    "df_raw = pd.read_csv(\"../assets/admissions.csv\")\n",
    "print df_raw.head()"
   ]
  },
  {
   "cell_type": "markdown",
   "metadata": {},
   "source": [
    "## Questions\n",
    "#### Question 1. How many observations are in our dataset? \n"
   ]
  },
  {
   "cell_type": "code",
   "execution_count": 6,
   "metadata": {
    "collapsed": false,
    "scrolled": true
   },
   "outputs": [
    {
     "data": {
      "text/plain": [
       "admit       400\n",
       "gre         398\n",
       "gpa         398\n",
       "prestige    399\n",
       "dtype: int64"
      ]
     },
     "execution_count": 6,
     "metadata": {},
     "output_type": "execute_result"
    }
   ],
   "source": [
    "df_raw.count()"
   ]
  },
  {
   "cell_type": "markdown",
   "metadata": {},
   "source": [
    "Answer: There are 400 observations in this dataset."
   ]
  },
  {
   "cell_type": "markdown",
   "metadata": {},
   "source": [
    "#### Question 2. Create a summary table"
   ]
  },
  {
   "cell_type": "code",
   "execution_count": 7,
   "metadata": {
    "collapsed": false,
    "scrolled": true
   },
   "outputs": [
    {
     "name": "stderr",
     "output_type": "stream",
     "text": [
      "/Users/cour7816/anaconda2/lib/python2.7/site-packages/numpy/lib/function_base.py:3834: RuntimeWarning: Invalid value encountered in percentile\n",
      "  RuntimeWarning)\n"
     ]
    },
    {
     "data": {
      "text/html": [
       "<div>\n",
       "<table border=\"1\" class=\"dataframe\">\n",
       "  <thead>\n",
       "    <tr style=\"text-align: right;\">\n",
       "      <th></th>\n",
       "      <th>admit</th>\n",
       "      <th>gre</th>\n",
       "      <th>gpa</th>\n",
       "      <th>prestige</th>\n",
       "    </tr>\n",
       "  </thead>\n",
       "  <tbody>\n",
       "    <tr>\n",
       "      <th>count</th>\n",
       "      <td>400.000000</td>\n",
       "      <td>398.000000</td>\n",
       "      <td>398.00000</td>\n",
       "      <td>399.000000</td>\n",
       "    </tr>\n",
       "    <tr>\n",
       "      <th>mean</th>\n",
       "      <td>0.317500</td>\n",
       "      <td>588.040201</td>\n",
       "      <td>3.39093</td>\n",
       "      <td>2.486216</td>\n",
       "    </tr>\n",
       "    <tr>\n",
       "      <th>std</th>\n",
       "      <td>0.466087</td>\n",
       "      <td>115.628513</td>\n",
       "      <td>0.38063</td>\n",
       "      <td>0.945333</td>\n",
       "    </tr>\n",
       "    <tr>\n",
       "      <th>min</th>\n",
       "      <td>0.000000</td>\n",
       "      <td>220.000000</td>\n",
       "      <td>2.26000</td>\n",
       "      <td>1.000000</td>\n",
       "    </tr>\n",
       "    <tr>\n",
       "      <th>25%</th>\n",
       "      <td>0.000000</td>\n",
       "      <td>NaN</td>\n",
       "      <td>NaN</td>\n",
       "      <td>NaN</td>\n",
       "    </tr>\n",
       "    <tr>\n",
       "      <th>50%</th>\n",
       "      <td>0.000000</td>\n",
       "      <td>NaN</td>\n",
       "      <td>NaN</td>\n",
       "      <td>NaN</td>\n",
       "    </tr>\n",
       "    <tr>\n",
       "      <th>75%</th>\n",
       "      <td>1.000000</td>\n",
       "      <td>NaN</td>\n",
       "      <td>NaN</td>\n",
       "      <td>NaN</td>\n",
       "    </tr>\n",
       "    <tr>\n",
       "      <th>max</th>\n",
       "      <td>1.000000</td>\n",
       "      <td>800.000000</td>\n",
       "      <td>4.00000</td>\n",
       "      <td>4.000000</td>\n",
       "    </tr>\n",
       "  </tbody>\n",
       "</table>\n",
       "</div>"
      ],
      "text/plain": [
       "            admit         gre        gpa    prestige\n",
       "count  400.000000  398.000000  398.00000  399.000000\n",
       "mean     0.317500  588.040201    3.39093    2.486216\n",
       "std      0.466087  115.628513    0.38063    0.945333\n",
       "min      0.000000  220.000000    2.26000    1.000000\n",
       "25%      0.000000         NaN        NaN         NaN\n",
       "50%      0.000000         NaN        NaN         NaN\n",
       "75%      1.000000         NaN        NaN         NaN\n",
       "max      1.000000  800.000000    4.00000    4.000000"
      ]
     },
     "execution_count": 7,
     "metadata": {},
     "output_type": "execute_result"
    }
   ],
   "source": [
    "#function\n",
    "df_raw.describe()"
   ]
  },
  {
   "cell_type": "markdown",
   "metadata": {},
   "source": [
    "#### Question 3. Why would GRE have a larger STD than GPA?"
   ]
  },
  {
   "cell_type": "markdown",
   "metadata": {},
   "source": [
    "Answer:  GRE has a larger standard deviation than GPA because it has a much bigger range, as shown by the `min` and `max` in the summary table, or the histograms below."
   ]
  },
  {
   "cell_type": "code",
   "execution_count": 8,
   "metadata": {
    "collapsed": false
   },
   "outputs": [
    {
     "data": {
      "text/plain": [
       "array([[<matplotlib.axes._subplots.AxesSubplot object at 0x117101e10>]], dtype=object)"
      ]
     },
     "execution_count": 8,
     "metadata": {},
     "output_type": "execute_result"
    },
    {
     "data": {
      "image/png": "[encoded data removed]",
      "text/plain": [
       "<matplotlib.figure.Figure at 0x117101910>"
      ]
     },
     "metadata": {},
     "output_type": "display_data"
    }
   ],
   "source": [
    "df_raw.hist('gre')"
   ]
  },
  {
   "cell_type": "code",
   "execution_count": 9,
   "metadata": {
    "collapsed": false,
    "scrolled": true
   },
   "outputs": [
    {
     "data": {
      "text/plain": [
       "array([[<matplotlib.axes._subplots.AxesSubplot object at 0x11975afd0>]], dtype=object)"
      ]
     },
     "execution_count": 9,
     "metadata": {},
     "output_type": "execute_result"
    },
    {
     "data": {
      "image/png": "[encoded data removed]",
      "text/plain": [
       "<matplotlib.figure.Figure at 0x11941af10>"
      ]
     },
     "metadata": {},
     "output_type": "display_data"
    }
   ],
   "source": [
    "df_raw.hist('gpa')"
   ]
  },
  {
   "cell_type": "markdown",
   "metadata": {
    "collapsed": true
   },
   "source": [
    "#### Question 4. Drop data points with missing data\n"
   ]
  },
  {
   "cell_type": "code",
   "execution_count": 10,
   "metadata": {
    "collapsed": false,
    "scrolled": true
   },
   "outputs": [
    {
     "data": {
      "text/html": [
       "<div>\n",
       "<table border=\"1\" class=\"dataframe\">\n",
       "  <thead>\n",
       "    <tr style=\"text-align: right;\">\n",
       "      <th></th>\n",
       "      <th>admit</th>\n",
       "      <th>gre</th>\n",
       "      <th>gpa</th>\n",
       "      <th>prestige</th>\n",
       "    </tr>\n",
       "  </thead>\n",
       "  <tbody>\n",
       "    <tr>\n",
       "      <th>count</th>\n",
       "      <td>397.000000</td>\n",
       "      <td>397.000000</td>\n",
       "      <td>397.000000</td>\n",
       "      <td>397.000000</td>\n",
       "    </tr>\n",
       "    <tr>\n",
       "      <th>mean</th>\n",
       "      <td>0.317380</td>\n",
       "      <td>587.858942</td>\n",
       "      <td>3.392242</td>\n",
       "      <td>2.488665</td>\n",
       "    </tr>\n",
       "    <tr>\n",
       "      <th>std</th>\n",
       "      <td>0.466044</td>\n",
       "      <td>115.717787</td>\n",
       "      <td>0.380208</td>\n",
       "      <td>0.947083</td>\n",
       "    </tr>\n",
       "    <tr>\n",
       "      <th>min</th>\n",
       "      <td>0.000000</td>\n",
       "      <td>220.000000</td>\n",
       "      <td>2.260000</td>\n",
       "      <td>1.000000</td>\n",
       "    </tr>\n",
       "    <tr>\n",
       "      <th>25%</th>\n",
       "      <td>0.000000</td>\n",
       "      <td>520.000000</td>\n",
       "      <td>3.130000</td>\n",
       "      <td>2.000000</td>\n",
       "    </tr>\n",
       "    <tr>\n",
       "      <th>50%</th>\n",
       "      <td>0.000000</td>\n",
       "      <td>580.000000</td>\n",
       "      <td>3.400000</td>\n",
       "      <td>2.000000</td>\n",
       "    </tr>\n",
       "    <tr>\n",
       "      <th>75%</th>\n",
       "      <td>1.000000</td>\n",
       "      <td>660.000000</td>\n",
       "      <td>3.670000</td>\n",
       "      <td>3.000000</td>\n",
       "    </tr>\n",
       "    <tr>\n",
       "      <th>max</th>\n",
       "      <td>1.000000</td>\n",
       "      <td>800.000000</td>\n",
       "      <td>4.000000</td>\n",
       "      <td>4.000000</td>\n",
       "    </tr>\n",
       "  </tbody>\n",
       "</table>\n",
       "</div>"
      ],
      "text/plain": [
       "            admit         gre         gpa    prestige\n",
       "count  397.000000  397.000000  397.000000  397.000000\n",
       "mean     0.317380  587.858942    3.392242    2.488665\n",
       "std      0.466044  115.717787    0.380208    0.947083\n",
       "min      0.000000  220.000000    2.260000    1.000000\n",
       "25%      0.000000  520.000000    3.130000    2.000000\n",
       "50%      0.000000  580.000000    3.400000    2.000000\n",
       "75%      1.000000  660.000000    3.670000    3.000000\n",
       "max      1.000000  800.000000    4.000000    4.000000"
      ]
     },
     "execution_count": 10,
     "metadata": {},
     "output_type": "execute_result"
    }
   ],
   "source": [
    "df = df_raw.dropna(axis=0)\n",
    "df.describe()"
   ]
  },
  {
   "cell_type": "markdown",
   "metadata": {},
   "source": [
    "#### Question 6. Create box plots for GRE and GPA"
   ]
  },
  {
   "cell_type": "code",
   "execution_count": 11,
   "metadata": {
    "collapsed": false
   },
   "outputs": [
    {
     "data": {
      "text/plain": [
       "<matplotlib.axes._subplots.AxesSubplot at 0x11a2133d0>"
      ]
     },
     "execution_count": 11,
     "metadata": {},
     "output_type": "execute_result"
    },
    {
     "data": {
      "image/png": "[encoded data removed]",
      "text/plain": [
       "<matplotlib.figure.Figure at 0x11a244850>"
      ]
     },
     "metadata": {},
     "output_type": "display_data"
    }
   ],
   "source": [
    "#boxplot for gre\n",
    "df.boxplot('gre', return_type='axes')"
   ]
  },
  {
   "cell_type": "code",
   "execution_count": 12,
   "metadata": {
    "collapsed": false
   },
   "outputs": [
    {
     "data": {
      "text/plain": [
       "<matplotlib.axes._subplots.AxesSubplot at 0x1193c6190>"
      ]
     },
     "execution_count": 12,
     "metadata": {},
     "output_type": "execute_result"
    },
    {
     "data": {
      "image/png": "[encoded data removed]",
      "text/plain": [
       "<matplotlib.figure.Figure at 0x11a28ea10>"
      ]
     },
     "metadata": {},
     "output_type": "display_data"
    }
   ],
   "source": [
    "#boxplot for gpa\n",
    "df.boxplot('gpa', return_type='axes')"
   ]
  },
  {
   "cell_type": "markdown",
   "metadata": {},
   "source": [
    "#### Question 7. What do this plots show?"
   ]
  },
  {
   "cell_type": "markdown",
   "metadata": {},
   "source": [
    "Answer: \n",
    "The plots show the interquartile ranges for attributes `gre` and `gpa`. `gre` shows the median sitting at 587. `gpa` shows the median sitting at 3.4. The plots show that `gre` has two outliers below the first quartile, and `gpa` has one outlier below the first quartile. "
   ]
  },
  {
   "cell_type": "markdown",
   "metadata": {},
   "source": [
    "#### Question 8. Describe each distribution "
   ]
  },
  {
   "cell_type": "code",
   "execution_count": 13,
   "metadata": {
    "collapsed": false,
    "scrolled": false
   },
   "outputs": [
    {
     "data": {
      "text/plain": [
       "array([[<matplotlib.axes._subplots.AxesSubplot object at 0x11a53c7d0>,\n",
       "        <matplotlib.axes._subplots.AxesSubplot object at 0x11a688a50>],\n",
       "       [<matplotlib.axes._subplots.AxesSubplot object at 0x11a70b8d0>,\n",
       "        <matplotlib.axes._subplots.AxesSubplot object at 0x11a76ddd0>]], dtype=object)"
      ]
     },
     "execution_count": 13,
     "metadata": {},
     "output_type": "execute_result"
    },
    {
     "data": {
      "image/png": "[encoded data removed]",
      "text/plain": [
       "<matplotlib.figure.Figure at 0x11a547e50>"
      ]
     },
     "metadata": {},
     "output_type": "display_data"
    }
   ],
   "source": [
    "# plot the distribution of each variable \n",
    "df.hist()"
   ]
  },
  {
   "cell_type": "code",
   "execution_count": 14,
   "metadata": {
    "collapsed": false
   },
   "outputs": [
    {
     "data": {
      "text/plain": [
       "NormaltestResult(statistic=array([ 2203.82079872,     3.81798293,    13.07987556,    49.42125322]), pvalue=array([  0.00000000e+00,   1.48229806e-01,   1.44457838e-03,\n",
       "         1.85486036e-11]))"
      ]
     },
     "execution_count": 14,
     "metadata": {},
     "output_type": "execute_result"
    }
   ],
   "source": [
    "sp.stats.normaltest(df, axis=0)"
   ]
  },
  {
   "cell_type": "markdown",
   "metadata": {},
   "source": [
    "#### Question 9.  If our model had an assumption of a normal distribution would we meet that requirement? "
   ]
  },
  {
   "cell_type": "markdown",
   "metadata": {},
   "source": [
    "Answer: No - both `gpa` and `gre` are negatively skewed. "
   ]
  },
  {
   "cell_type": "markdown",
   "metadata": {},
   "source": [
    "#### Question 10.  Does this distribution need correction? If so, why? How? "
   ]
  },
  {
   "cell_type": "markdown",
   "metadata": {},
   "source": [
    "Answer: Yes, this dataset needs correction as both `gpa` and `gre` are negatively skewed. We could correct this distribution by taking the square root, natural log, or inverse of the continuous variables."
   ]
  },
  {
   "cell_type": "markdown",
   "metadata": {},
   "source": [
    "#### Question 11. Which of our variables are potentially colinear? "
   ]
  },
  {
   "cell_type": "code",
   "execution_count": 15,
   "metadata": {
    "collapsed": false
   },
   "outputs": [
    {
     "data": {
      "text/html": [
       "<div>\n",
       "<table border=\"1\" class=\"dataframe\">\n",
       "  <thead>\n",
       "    <tr style=\"text-align: right;\">\n",
       "      <th></th>\n",
       "      <th>admit</th>\n",
       "      <th>gre</th>\n",
       "      <th>gpa</th>\n",
       "      <th>prestige</th>\n",
       "    </tr>\n",
       "  </thead>\n",
       "  <tbody>\n",
       "    <tr>\n",
       "      <th>admit</th>\n",
       "      <td>1.000000</td>\n",
       "      <td>0.181202</td>\n",
       "      <td>0.174116</td>\n",
       "      <td>-0.243563</td>\n",
       "    </tr>\n",
       "    <tr>\n",
       "      <th>gre</th>\n",
       "      <td>0.181202</td>\n",
       "      <td>1.000000</td>\n",
       "      <td>0.382408</td>\n",
       "      <td>-0.124533</td>\n",
       "    </tr>\n",
       "    <tr>\n",
       "      <th>gpa</th>\n",
       "      <td>0.174116</td>\n",
       "      <td>0.382408</td>\n",
       "      <td>1.000000</td>\n",
       "      <td>-0.060976</td>\n",
       "    </tr>\n",
       "    <tr>\n",
       "      <th>prestige</th>\n",
       "      <td>-0.243563</td>\n",
       "      <td>-0.124533</td>\n",
       "      <td>-0.060976</td>\n",
       "      <td>1.000000</td>\n",
       "    </tr>\n",
       "  </tbody>\n",
       "</table>\n",
       "</div>"
      ],
      "text/plain": [
       "             admit       gre       gpa  prestige\n",
       "admit     1.000000  0.181202  0.174116 -0.243563\n",
       "gre       0.181202  1.000000  0.382408 -0.124533\n",
       "gpa       0.174116  0.382408  1.000000 -0.060976\n",
       "prestige -0.243563 -0.124533 -0.060976  1.000000"
      ]
     },
     "execution_count": 15,
     "metadata": {},
     "output_type": "execute_result"
    }
   ],
   "source": [
    "# create a correlation matrix for the data\n",
    "df.corr()"
   ]
  },
  {
   "cell_type": "code",
   "execution_count": 16,
   "metadata": {
    "collapsed": false
   },
   "outputs": [
    {
     "data": {
      "text/html": [
       "<div>\n",
       "<table border=\"1\" class=\"dataframe\">\n",
       "  <thead>\n",
       "    <tr style=\"text-align: right;\">\n",
       "      <th></th>\n",
       "      <th>admit</th>\n",
       "      <th>gre</th>\n",
       "      <th>gpa</th>\n",
       "      <th>prestige</th>\n",
       "    </tr>\n",
       "  </thead>\n",
       "  <tbody>\n",
       "    <tr>\n",
       "      <th>admit</th>\n",
       "      <td>0.217197</td>\n",
       "      <td>9.772155</td>\n",
       "      <td>0.030852</td>\n",
       "      <td>-0.107505</td>\n",
       "    </tr>\n",
       "    <tr>\n",
       "      <th>gre</th>\n",
       "      <td>9.772155</td>\n",
       "      <td>13390.606315</td>\n",
       "      <td>16.824761</td>\n",
       "      <td>-13.648068</td>\n",
       "    </tr>\n",
       "    <tr>\n",
       "      <th>gpa</th>\n",
       "      <td>0.030852</td>\n",
       "      <td>16.824761</td>\n",
       "      <td>0.144558</td>\n",
       "      <td>-0.021957</td>\n",
       "    </tr>\n",
       "    <tr>\n",
       "      <th>prestige</th>\n",
       "      <td>-0.107505</td>\n",
       "      <td>-13.648068</td>\n",
       "      <td>-0.021957</td>\n",
       "      <td>0.896967</td>\n",
       "    </tr>\n",
       "  </tbody>\n",
       "</table>\n",
       "</div>"
      ],
      "text/plain": [
       "             admit           gre        gpa   prestige\n",
       "admit     0.217197      9.772155   0.030852  -0.107505\n",
       "gre       9.772155  13390.606315  16.824761 -13.648068\n",
       "gpa       0.030852     16.824761   0.144558  -0.021957\n",
       "prestige -0.107505    -13.648068  -0.021957   0.896967"
      ]
     },
     "execution_count": 16,
     "metadata": {},
     "output_type": "execute_result"
    }
   ],
   "source": [
    "# create covariance matrix \n",
    "df.cov()"
   ]
  },
  {
   "cell_type": "markdown",
   "metadata": {},
   "source": [
    "#### Question 12. What did you find?"
   ]
  },
  {
   "cell_type": "markdown",
   "metadata": {},
   "source": [
    "Answer: No variables have perfect correlation. `gre` and `gpa` have some collinearity with a correlation of 0.38. `admit` and `prestige` also have some collinearity with a correlation of -0.24. Other variables have correlation between 0.18 and -0.12, which is very slight. "
   ]
  },
  {
   "cell_type": "markdown",
   "metadata": {},
   "source": [
    "#### Question 13. Write an analysis plan for exploring the association between grad school admissions rates and prestige of  undergraduate schools."
   ]
  },
  {
   "cell_type": "markdown",
   "metadata": {},
   "source": [
    "Answer: Using UCLA admissions data which includes the outcome of admission and predictors of GRE scores, GPA, and undergraduate alumna prestige, we will explore the association between grad school admission rates (`admit`) and the prestige of undergraduate schools (`prestige`). \n",
    "\n",
    "For exploratory analysis, we will look at summary statistics for an overview of the data and to identify any missing data points. Because `admit` and `prestige` are both categorical variables, it doesn't make sense to create a histogram to determine the distribution of the data, and we can skip directly to creating a correlation matrix to determine if the variables are colinear. "
   ]
  },
  {
   "cell_type": "markdown",
   "metadata": {},
   "source": [
    "#### Question 14. What is your hypothesis? "
   ]
  },
  {
   "cell_type": "markdown",
   "metadata": {},
   "source": [
    "Answer: \n",
    "Null hypothesis: There is no association between grad school admission rates and prestige of undergraduate schools.\n",
    "Alternate hypothsis: There is an association between grad school admission rates and prestige of undergradute schools."
   ]
  },
  {
   "cell_type": "markdown",
   "metadata": {},
   "source": [
    "## Bonus/Advanced"
   ]
  },
  {
   "cell_type": "markdown",
   "metadata": {},
   "source": [
    "#### 1. Bonus: Explore alternatives to dropping obervations with missing data"
   ]
  },
  {
   "cell_type": "markdown",
   "metadata": {},
   "source": [
    "* Use `fillna()` to replace NA values with non-null data.\n",
    "* Use `interpolate()` to perform linear interpolation at missing datapoints."
   ]
  },
  {
   "cell_type": "markdown",
   "metadata": {},
   "source": [
    "#### 2. Bonus: Log transform the skewed data"
   ]
  },
  {
   "cell_type": "code",
   "execution_count": 69,
   "metadata": {
    "collapsed": false,
    "scrolled": true
   },
   "outputs": [
    {
     "data": {
      "text/plain": [
       "array([[ 1.28370777,  1.30019166,  1.38629436,  1.16002092,  1.07500242,\n",
       "         1.09861229,  1.0919233 ,  1.1249296 ,  1.22082992,  1.36609165,\n",
       "         1.38629436,  1.16938136,  1.38629436,  1.1249296 ,  1.38629436,\n",
       "         1.23547147,  1.35325451,  0.94000726,  1.32175584,  1.33762919,\n",
       "         1.15373159,  1.28923265,  1.03673688,  1.16002092,  1.20896035,\n",
       "         1.29746315,  1.28370777,  1.31908561,  1.16938136,  1.19088756,\n",
       "         1.32972401,  1.20896035,  1.22377543,  1.38629436,  1.1442228 ,\n",
       "         1.11514159,  1.178655  ,  1.06471074,  1.141033  ,  0.98581679,\n",
       "         0.88376754,  1.19996478,  1.14740245,  1.19694819,  1.07840958,\n",
       "         1.23837423,  1.24126859,  1.08856195,  0.90825856,  1.20896035,\n",
       "         1.35066718,  1.141033  ,  1.21491274,  1.18478998,  1.20597081,\n",
       "         1.38629436,  1.16002092,  1.07840958,  1.29472717,  1.03673688,\n",
       "         1.1568812 ,  1.19996478,  1.30019166,  1.34807315,  1.38629436,\n",
       "         1.2781522 ,  1.28647403,  1.19392247,  1.30562646,  1.31640823,\n",
       "         1.38629436,  1.07158362,  1.22082992,  1.38629436,  1.23837423,\n",
       "         1.38629436,  1.21194097,  1.38629436,  1.137833  ,  1.38629436,\n",
       "         1.06471074,  1.12167756,  0.99694863,  1.06815308,  1.28093385,\n",
       "         1.0919233 ,  1.19996478,  1.24703229,  1.18784342,  1.38629436,\n",
       "         1.3428648 ,  1.29198368,  1.36097655,  1.07500242,  1.23547147,\n",
       "         1.2029723 ,  1.25846099,  1.2725656 ,  1.05779029,  1.19694819,\n",
       "         1.14740245,  1.2725656 ,  1.2029723 ,  1.37118072,  1.37371558,\n",
       "         1.08856195,  1.26976054,  1.141033  ,  1.07500242,  1.23837423,\n",
       "         1.1249296 ,  1.22671229,  1.09861229,  1.16938136,  1.34547237,\n",
       "         1.38379123,  1.23837423,  1.31372367,  1.30833282,  1.07158362,\n",
       "         1.31908561,  0.98207847,  1.04731899,  1.0919233 ,  1.35583515,\n",
       "         1.21787571,  1.26412673,  1.31908561,  1.16002092,  1.14740245,\n",
       "         1.15373159,  1.0260416 ,  1.22377543,  1.1249296 ,  1.08180517,\n",
       "         1.2725656 ,  1.2029723 ,  1.38629436,  1.22377543,  1.2753628 ,\n",
       "         1.36863943,  1.25846099,  1.37118072,  1.22377543,  1.22377543,\n",
       "         1.23256026,  1.22377543,  0.99694863,  1.06815308,  1.19694819,\n",
       "         1.31908561,  1.21787571,  1.37118072,  1.24126859,  1.30562646,\n",
       "         1.05082162,  0.9242589 ,  1.2753628 ,  1.24990174,  1.34025042,\n",
       "         1.141033  ,  1.25276297,  1.26976054,  1.00430161,  1.19392247,\n",
       "         1.38629436,  1.17557333,  1.327075  ,  1.38629436,  1.28647403,\n",
       "         1.25561604,  1.03318448,  1.24703229,  1.23256026,  1.26129787,\n",
       "         1.21491274,  0.96317432,  1.17248214,  1.2029723 ,  1.10194008,\n",
       "         1.32972401,  1.35583515,  1.38629436,  1.34547237,  1.0260416 ,\n",
       "         1.28093385,  1.28370777,  1.12167756,  1.20896035,  1.07840958,\n",
       "         1.26412673,  1.32441896,  1.2781522 ,  1.24415459,  1.2781522 ,\n",
       "         1.12167756,  1.17248214,  1.28923265,  1.327075  ,  1.19694819,\n",
       "         1.16315081,  1.38629436,  1.36609165,  1.35840916,  1.33500107,\n",
       "         1.26412673,  1.28923265,  1.15057203,  1.25276297,  1.20597081,\n",
       "         1.10525683,  1.21787571,  1.26976054,  1.06815308,  1.06471074,\n",
       "         1.29198368,  1.0919233 ,  1.2781522 ,  1.18784342,  1.38379123,\n",
       "         1.10525683,  1.24415459,  1.06471074,  1.25276297,  1.2753628 ,\n",
       "         1.10525683,  1.23256026,  1.22964055,  1.19088756,  1.18784342,\n",
       "         1.21787571,  0.98207847,  1.26129787,  1.11514159,  1.38629436,\n",
       "         1.05082162,  1.23837423,  1.01523068,  1.33762919,  1.08518927,\n",
       "         1.16938136,  1.11185752,  1.36353737,  1.20597081,  1.15373159,\n",
       "         1.29198368,  1.31640823,  1.19694819,  1.16627094,  1.38629436,\n",
       "         1.2669476 ,  1.25846099,  1.20896035,  1.19392247,  1.37371558,\n",
       "         1.25561604,  1.33762919,  1.13462273,  1.14740245,  1.16002092,\n",
       "         1.37371558,  1.36097655,  1.20597081,  1.17557333,  1.29198368,\n",
       "         1.24126859,  1.03318448,  1.37371558,  1.2029723 ,  1.30019166,\n",
       "         1.19996478,  1.137833  ,  1.0919233 ,  1.327075  ,  1.2753628 ,\n",
       "         1.09861229,  1.1442228 ,  1.37118072,  1.18478998,  1.23837423,\n",
       "         1.13140211,  1.22082992,  1.19694819,  1.16938136,  1.30833282,\n",
       "         1.14740245,  0.81536481,  1.23837423,  1.02245093,  1.30833282,\n",
       "         1.37876609,  0.93609336,  1.178655  ,  1.15057203,  1.12167756,\n",
       "         1.25276297,  1.22377543,  1.19392247,  1.28093385,  1.14740245,\n",
       "         1.38128182,  1.04027671,  1.24126859,  1.15373159,  1.25561604,\n",
       "         1.141033  ,  1.0919233 ,  1.38629436,  1.30019166,  1.327075  ,\n",
       "         1.29472717,  1.24126859,  1.04380405,  1.09861229,  1.28923265,\n",
       "         1.31103188,  1.18784342,  1.1442228 ,  1.2753628 ,  1.10194008,\n",
       "         0.98954119,  0.99325177,  1.36097655,  1.19694819,  1.24703229,\n",
       "         1.20597081,  1.07500242,  1.38629436,  1.2781522 ,  1.08518927,\n",
       "         1.23256026,  1.29198368,  1.31103188,  1.14740245,  1.12817109,\n",
       "         1.16315081,  1.24415459,  1.17248214,  0.97455964,  1.37371558,\n",
       "         1.11841492,  1.20896035,  1.10856262,  1.20896035,  1.33500107,\n",
       "         1.21194097,  1.04731899,  1.38629436,  1.23256026,  1.137833  ,\n",
       "         1.25846099,  1.32972401,  1.03318448,  1.18478998,  1.19694819,\n",
       "         1.30562646,  1.37118072,  1.38629436,  1.24990174,  1.1442228 ,\n",
       "         1.23547147,  1.21194097,  1.02245093,  1.07500242,  1.28923265,\n",
       "         1.38629436,  1.35840916,  1.327075  ,  1.32441896,  0.88376754,\n",
       "         1.21491274,  1.32972401,  1.24990174,  1.28923265,  1.38629436,\n",
       "         1.137833  ,  0.99325177,  1.29472717,  1.24990174,  1.25561604,\n",
       "         1.38629436,  0.96317432,  1.10525683,  1.35066718,  1.21194097,\n",
       "         1.15373159,  1.25561604,  1.11514159,  1.35583515,  1.21787571,\n",
       "         1.32175584,  1.38379123,  1.38629436,  1.11185752,  0.96698385,\n",
       "         1.29472717,  1.35840916],\n",
       "       [ 5.94017125,  6.49223984,  6.68461173,  6.46146818,  6.25382881,\n",
       "         6.63331843,  6.32793678,  5.99146455,  6.29156914,  6.55108034,\n",
       "         6.68461173,  6.08677473,  6.63331843,  6.55108034,  6.55108034,\n",
       "         6.1737861 ,  6.65929392,  5.88610403,  6.68461173,  6.29156914,\n",
       "         6.2146081 ,  6.49223984,  6.39692966,  6.5220928 ,  6.63331843,\n",
       "         6.68461173,  6.42971948,  6.25382881,  6.65929392,  6.25382881,\n",
       "         6.29156914,  6.63331843,  6.39692966,  6.68461173,  5.88610403,\n",
       "         5.99146455,  6.3630281 ,  6.25382881,  6.2146081 ,  6.25382881,\n",
       "         6.32793678,  6.3630281 ,  6.39692966,  6.2146081 ,  6.55108034,\n",
       "         6.13122649,  6.3630281 ,  6.2146081 ,  6.08677473,  5.99146455,\n",
       "         6.46146818,  6.08677473,  6.60665019,  6.5220928 ,  6.49223984,\n",
       "         6.60665019,  6.32793678,  5.94017125,  5.99146455,  6.39692966,\n",
       "         6.42971948,  6.32793678,  6.46146818,  6.5220928 ,  6.3630281 ,\n",
       "         6.39692966,  6.60665019,  6.42971948,  6.3630281 ,  6.68461173,\n",
       "         6.46146818,  5.70378247,  6.1737861 ,  6.3630281 ,  6.57925121,\n",
       "         6.57925121,  6.32793678,  6.68461173,  6.29156914,  6.42971948,\n",
       "         6.55108034,  6.42971948,  6.2146081 ,  5.94017125,  6.2146081 ,\n",
       "         6.25382881,  6.39692966,  6.39692966,  6.55108034,  6.49223984,\n",
       "         6.55108034,  6.57925121,  6.68461173,  6.3630281 ,  6.49223984,\n",
       "         6.49223984,  6.46146818,  6.1737861 ,  6.55108034,  5.99146455,\n",
       "         5.82894562,  6.3630281 ,  5.94017125,  6.29156914,  6.49223984,\n",
       "         6.60665019,  6.55108034,  6.1737861 ,  5.99146455,  6.1737861 ,\n",
       "         6.5220928 ,  6.04025471,  5.88610403,  6.39692966,  6.57925121,\n",
       "         6.42971948,  6.08677473,  6.55108034,  6.68461173,  5.82894562,\n",
       "         6.25382881,  6.1737861 ,  6.25382881,  6.2146081 ,  6.57925121,\n",
       "         6.29156914,  6.39692966,  6.60665019,  6.29156914,  6.13122649,\n",
       "         6.42971948,  6.46146818,  6.3630281 ,  6.2146081 ,  6.32793678,\n",
       "         6.2146081 ,  6.32793678,  6.55108034,  6.42971948,  6.39692966,\n",
       "         6.46146818,  6.55108034,  6.42971948,  6.3630281 ,  6.3630281 ,\n",
       "         5.94017125,  6.1737861 ,  6.32793678,  6.1737861 ,  6.60665019,\n",
       "         6.68461173,  5.99146455,  6.46146818,  6.3630281 ,  6.42971948,\n",
       "         6.3630281 ,  6.32793678,  6.1737861 ,  6.49223984,  6.55108034,\n",
       "         6.39692966,  6.46146818,  6.55108034,  6.25382881,  6.3630281 ,\n",
       "         6.55108034,  6.08677473,  6.57925121,  6.2146081 ,  6.39692966,\n",
       "         5.99146455,  6.29156914,  6.5220928 ,  6.68461173,  6.2146081 ,\n",
       "         6.42971948,  6.25382881,  6.42971948,  6.42971948,  5.70378247,\n",
       "         6.42971948,  6.2146081 ,  6.55108034,  6.29156914,  6.2146081 ,\n",
       "         6.68461173,  6.32793678,  6.32793678,  6.2146081 ,  6.46146818,\n",
       "         6.68461173,  6.46146818,  5.94017125,  6.39692966,  6.32793678,\n",
       "         6.49223984,  5.99146455,  6.39692966,  6.3630281 ,  6.68461173,\n",
       "         6.3630281 ,  6.55108034,  6.04025471,  6.39692966,  6.65929392,\n",
       "         6.60665019,  6.46146818,  6.29156914,  6.3630281 ,  6.60665019,\n",
       "         6.3630281 ,  6.46146818,  6.39692966,  6.49223984,  5.82894562,\n",
       "         6.13122649,  6.13122649,  6.32793678,  6.29156914,  6.5220928 ,\n",
       "         6.1737861 ,  6.68461173,  6.68461173,  6.57925121,  6.42971948,\n",
       "         6.29156914,  6.1737861 ,  6.57925121,  6.3630281 ,  6.39692966,\n",
       "         5.94017125,  6.04025471,  6.68461173,  6.42971948,  6.1737861 ,\n",
       "         6.2146081 ,  6.55108034,  6.08677473,  6.25382881,  6.5220928 ,\n",
       "         6.42971948,  6.29156914,  6.68461173,  6.5220928 ,  6.08677473,\n",
       "         6.5220928 ,  6.46146818,  6.49223984,  6.42971948,  6.25382881,\n",
       "         6.29156914,  6.60665019,  6.46146818,  6.25382881,  6.42971948,\n",
       "         6.25382881,  6.46146818,  6.5220928 ,  6.08677473,  6.25382881,\n",
       "         6.42971948,  6.25382881,  5.94017125,  6.32793678,  6.39692966,\n",
       "         6.5220928 ,  6.2146081 ,  6.46146818,  6.29156914,  6.5220928 ,\n",
       "         6.49223984,  6.25382881,  6.39692966,  6.13122649,  6.3630281 ,\n",
       "         6.5220928 ,  6.49223984,  6.49223984,  5.88610403,  6.49223984,\n",
       "         6.25382881,  6.08677473,  6.39692966,  6.68461173,  6.49223984,\n",
       "         6.68461173,  6.04025471,  6.42971948,  6.68461173,  6.5220928 ,\n",
       "         6.68461173,  6.1737861 ,  6.25382881,  6.32793678,  6.13122649,\n",
       "         6.29156914,  6.57925121,  6.46146818,  6.49223984,  5.99146455,\n",
       "         6.5220928 ,  5.39362755,  6.3630281 ,  6.29156914,  6.3630281 ,\n",
       "         6.29156914,  6.08677473,  6.32793678,  6.49223984,  6.49223984,\n",
       "         6.25382881,  6.29156914,  5.70378247,  5.82894562,  6.65929392,\n",
       "         6.1737861 ,  6.29156914,  6.13122649,  6.13122649,  6.2146081 ,\n",
       "         6.04025471,  6.25382881,  6.5220928 ,  6.5220928 ,  6.32793678,\n",
       "         6.3630281 ,  6.2146081 ,  6.60665019,  6.49223984,  6.04025471,\n",
       "         6.32793678,  6.13122649,  6.42971948,  6.25382881,  6.42971948,\n",
       "         6.29156914,  6.49223984,  6.2146081 ,  6.32793678,  6.2146081 ,\n",
       "         6.3630281 ,  6.25382881,  6.2146081 ,  6.39692966,  6.3630281 ,\n",
       "         5.99146455,  6.42971948,  6.65929392,  6.42971948,  6.3630281 ,\n",
       "         6.55108034,  6.29156914,  6.63331843,  6.55108034,  6.57925121,\n",
       "         6.32793678,  6.57925121,  6.25382881,  6.29156914,  6.5220928 ,\n",
       "         6.13122649,  6.32793678,  6.1737861 ,  6.13122649,  6.42971948,\n",
       "         6.3630281 ,  6.68461173,  6.29156914,  6.5220928 ,  6.5220928 ,\n",
       "         6.42971948,  6.32793678,  6.32793678,  6.42971948,  6.68461173,\n",
       "         6.46146818,  6.29156914,  6.55108034,  6.29156914,  6.29156914,\n",
       "         6.49223984,  6.1737861 ,  6.04025471,  6.60665019,  6.3630281 ,\n",
       "         6.46146818,  6.46146818,  6.68461173,  6.49223984,  6.39692966,\n",
       "         6.42971948,  6.13122649,  6.42971948,  6.32793678,  6.13122649,\n",
       "         6.55108034,  6.39692966]])"
      ]
     },
     "execution_count": 69,
     "metadata": {},
     "output_type": "execute_result"
    }
   ],
   "source": [
    "np.log([df.gpa, df.gre])\n"
   ]
  },
  {
   "cell_type": "markdown",
   "metadata": {},
   "source": [
    "#### 3. Advanced: Impute missing data"
   ]
  },
  {
   "cell_type": "code",
   "execution_count": 37,
   "metadata": {
    "collapsed": false
   },
   "outputs": [],
   "source": [
    "df_int = df_raw.interpolate()"
   ]
  },
  {
   "cell_type": "code",
   "execution_count": 38,
   "metadata": {
    "collapsed": false
   },
   "outputs": [
    {
     "data": {
      "text/html": [
       "<div>\n",
       "<table border=\"1\" class=\"dataframe\">\n",
       "  <thead>\n",
       "    <tr style=\"text-align: right;\">\n",
       "      <th></th>\n",
       "      <th>admit</th>\n",
       "      <th>gre</th>\n",
       "      <th>gpa</th>\n",
       "      <th>prestige</th>\n",
       "    </tr>\n",
       "  </thead>\n",
       "  <tbody>\n",
       "    <tr>\n",
       "      <th>count</th>\n",
       "      <td>400.000000</td>\n",
       "      <td>400.000000</td>\n",
       "      <td>400.000000</td>\n",
       "      <td>400.00000</td>\n",
       "    </tr>\n",
       "    <tr>\n",
       "      <th>mean</th>\n",
       "      <td>0.317500</td>\n",
       "      <td>588.025000</td>\n",
       "      <td>3.391138</td>\n",
       "      <td>2.48500</td>\n",
       "    </tr>\n",
       "    <tr>\n",
       "      <th>std</th>\n",
       "      <td>0.466087</td>\n",
       "      <td>115.352133</td>\n",
       "      <td>0.379743</td>\n",
       "      <td>0.94446</td>\n",
       "    </tr>\n",
       "    <tr>\n",
       "      <th>min</th>\n",
       "      <td>0.000000</td>\n",
       "      <td>220.000000</td>\n",
       "      <td>2.260000</td>\n",
       "      <td>1.00000</td>\n",
       "    </tr>\n",
       "    <tr>\n",
       "      <th>25%</th>\n",
       "      <td>0.000000</td>\n",
       "      <td>520.000000</td>\n",
       "      <td>3.130000</td>\n",
       "      <td>2.00000</td>\n",
       "    </tr>\n",
       "    <tr>\n",
       "      <th>50%</th>\n",
       "      <td>0.000000</td>\n",
       "      <td>580.000000</td>\n",
       "      <td>3.395000</td>\n",
       "      <td>2.00000</td>\n",
       "    </tr>\n",
       "    <tr>\n",
       "      <th>75%</th>\n",
       "      <td>1.000000</td>\n",
       "      <td>660.000000</td>\n",
       "      <td>3.670000</td>\n",
       "      <td>3.00000</td>\n",
       "    </tr>\n",
       "    <tr>\n",
       "      <th>max</th>\n",
       "      <td>1.000000</td>\n",
       "      <td>800.000000</td>\n",
       "      <td>4.000000</td>\n",
       "      <td>4.00000</td>\n",
       "    </tr>\n",
       "  </tbody>\n",
       "</table>\n",
       "</div>"
      ],
      "text/plain": [
       "            admit         gre         gpa   prestige\n",
       "count  400.000000  400.000000  400.000000  400.00000\n",
       "mean     0.317500  588.025000    3.391138    2.48500\n",
       "std      0.466087  115.352133    0.379743    0.94446\n",
       "min      0.000000  220.000000    2.260000    1.00000\n",
       "25%      0.000000  520.000000    3.130000    2.00000\n",
       "50%      0.000000  580.000000    3.395000    2.00000\n",
       "75%      1.000000  660.000000    3.670000    3.00000\n",
       "max      1.000000  800.000000    4.000000    4.00000"
      ]
     },
     "execution_count": 38,
     "metadata": {},
     "output_type": "execute_result"
    }
   ],
   "source": [
    "df_int.describe()"
   ]
  }
 ],
 "metadata": {
  "anaconda-cloud": {},
  "kernelspec": {
   "display_name": "Python [default]",
   "language": "python",
   "name": "python2"
  },
  "language_info": {
   "codemirror_mode": {
    "name": "ipython",
    "version": 2
   },
   "file_extension": ".py",
   "mimetype": "text/x-python",
   "name": "python",
   "nbconvert_exporter": "python",
   "pygments_lexer": "ipython2",
   "version": "2.7.12"
  }
 },
 "nbformat": 4,
 "nbformat_minor": 0
}
